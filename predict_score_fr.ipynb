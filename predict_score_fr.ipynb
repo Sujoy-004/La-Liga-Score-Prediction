{
  "nbformat": 4,
  "nbformat_minor": 0,
  "metadata": {
    "colab": {
      "provenance": [],
      "authorship_tag": "ABX9TyNp/BF3QGfcBINdZoQYjGmy",
      "include_colab_link": true
    },
    "kernelspec": {
      "name": "python3",
      "display_name": "Python 3"
    },
    "language_info": {
      "name": "python"
    }
  },
  "cells": [
    {
      "cell_type": "markdown",
      "metadata": {
        "id": "view-in-github",
        "colab_type": "text"
      },
      "source": [
        "<a href=\"https://colab.research.google.com/github/Sujoy-004/La-Liga-Score-Prediction/blob/main/predict_score_fr.ipynb\" target=\"_parent\"><img src=\"https://colab.research.google.com/assets/colab-badge.svg\" alt=\"Open In Colab\"/></a>"
      ]
    },
    {
      "cell_type": "markdown",
      "source": [
        "### Data Loading and Exploration"
      ],
      "metadata": {
        "id": "33hmsA48lgHp"
      }
    },
    {
      "cell_type": "code",
      "source": [
        "# import libraries\n",
        "import pandas as pd\n",
        "import numpy as np\n",
        "import matplotlib.pyplot as plt\n",
        "import seaborn as sns\n",
        "from datetime import datetime\n",
        "import warnings\n",
        "warnings.filterwarnings('ignore')"
      ],
      "metadata": {
        "id": "4a4WMLaemMe7"
      },
      "execution_count": 5,
      "outputs": []
    },
    {
      "cell_type": "code",
      "source": [
        "# Load historical data (2019-2024)\n",
        "historical_data = pd.read_csv(\"matches_full.csv\")\n",
        "print(\"Historical Data Shape:\", historical_data.shape)\n",
        "print(\"\\nHistorical Data Columns:\")\n",
        "print(historical_data.columns.tolist())\n",
        "print(\"\\nFirst 5 rows of historical data:\")\n",
        "print(historical_data.head().to_string())\n",
        "# Check data types\n",
        "print(\"Historical Data Types:\")\n",
        "print(historical_data.dtypes)\n",
        "# Check for missing values\n",
        "print(\"Missing values in historical data:\")\n",
        "print(historical_data.isnull().sum())\n",
        "# Check unique values in key columns\n",
        "print(\"Unique teams in historical data:\", historical_data['team'].nunique())\n",
        "print(\"Teams:\", sorted(historical_data['team'].unique()))\n",
        "print(\"Unique venues:\", historical_data['venue'].unique())\n",
        "print(\"Unique results:\", historical_data['result'].unique())\n",
        "print(\"Unique seasons:\", sorted(historical_data['season'].unique()))"
      ],
      "metadata": {
        "id": "6WNmX_rAmtT0"
      },
      "execution_count": null,
      "outputs": []
    },
    {
      "cell_type": "code",
      "source": [
        "# Load fixtures for 2025-26\n",
        "fixtures_2025 = pd.read_excel(\"la-liga-2025-UTC.xlsx\")\n",
        "print(\"Fixtures 2025-26 Shape:\", fixtures_2025.shape)\n",
        "print(\"\\nFixtures 2025-26 Columns:\")\n",
        "print(fixtures_2025.columns.tolist())\n",
        "print(\"\\nFirst 5 rows of fixtures:\")\n",
        "print(fixtures_2025.head().to_string())\n",
        "# Check data types\n",
        "print(\"Fixtures Data Types:\")\n",
        "print(fixtures_2025.dtypes)\n",
        "# Check for missing values\n",
        "print(\"Missing values in fixtures:\")\n",
        "print(fixtures_2025.isnull().sum())"
      ],
      "metadata": {
        "id": "XmNiTCNGnXSC"
      },
      "execution_count": null,
      "outputs": []
    },
    {
      "cell_type": "markdown",
      "source": [
        "### Data Preprocessing and Target Variable Creation"
      ],
      "metadata": {
        "id": "B6BRoptXtDhI"
      }
    },
    {
      "cell_type": "code",
      "source": [
        "# Convert date to datetime\n",
        "historical_data['date'] = pd.to_datetime(historical_data['date'])"
      ],
      "metadata": {
        "id": "Sn1YuqD3tFWP"
      },
      "execution_count": 8,
      "outputs": []
    },
    {
      "cell_type": "code",
      "source": [
        "print(\"Sample of team-match combinations:\")\n",
        "sample_matches = historical_data[['date', 'team', 'opponent', 'venue', 'result', 'gf', 'ga']].head(10)\n",
        "print(sample_matches)"
      ],
      "metadata": {
        "id": "C5CM3QgVvAxb"
      },
      "execution_count": null,
      "outputs": []
    },
    {
      "cell_type": "code",
      "source": [
        "test_match = historical_data[(historical_data['date'] == '2024-08-17') &\n",
        "                            (historical_data['team'] == 'Barcelona')]\n",
        "print(\"Barcelona's first match:\")\n",
        "print(test_match[['date', 'team', 'opponent', 'venue', 'result', 'gf', 'ga']])\n",
        "\n",
        "away_record = historical_data[(historical_data['date'] == '2024-08-17') &\n",
        "                             (historical_data['opponent'] == 'Barcelona') &\n",
        "                             (historical_data['team'] == test_match['opponent'].iloc[0])]\n",
        "print(f\"\\n{test_match['opponent'].iloc[0]}'s record for same match:\")\n",
        "print(away_record[['date', 'team', 'opponent', 'venue', 'result', 'gf', 'ga']])"
      ],
      "metadata": {
        "colab": {
          "base_uri": "https://localhost:8080/"
        },
        "id": "mlCtqSydvGxq",
        "outputId": "d53d9488-4ce6-4041-f3d2-44c27d1168cc"
      },
      "execution_count": 12,
      "outputs": [
        {
          "output_type": "stream",
          "name": "stdout",
          "text": [
            "Barcelona's first match:\n",
            "        date       team  opponent venue result   gf   ga\n",
            "0 2024-08-17  Barcelona  Valencia  Away      W  2.0  1.0\n",
            "\n",
            "Valencia's record for same match:\n",
            "          date      team   opponent venue result   gf   ga\n",
            "440 2024-08-17  Valencia  Barcelona  Home      L  1.0  2.0\n"
          ]
        }
      ]
    },
    {
      "cell_type": "code",
      "source": [
        "# Create match-level dataset with home team perspective\n",
        "matches_list = []\n",
        "\n",
        "for idx, row in historical_data.iterrows():\n",
        "    if row['venue'] == 'Home':\n",
        "        # This team is playing at home\n",
        "        match_data = {\n",
        "            'date': row['date'],\n",
        "            'home_team': row['team'],\n",
        "            'away_team': row['opponent'],\n",
        "            'home_goals': row['gf'],\n",
        "            'away_goals': row['ga'],\n",
        "            'home_xg': row['xg'],\n",
        "            'away_xg': row['xga'],\n",
        "            'home_poss': row['poss'],\n",
        "            'home_shots': row['sh'],\n",
        "            'home_sot': row['sot'],\n",
        "            'season': row['season'],\n",
        "            'round': row['round']\n",
        "        }\n",
        "\n",
        "        # Create target variable (from home team perspective)\n",
        "        if row['result'] == 'W':\n",
        "            match_data['target'] = 'W'  # Home win\n",
        "        elif row['result'] == 'D':\n",
        "            match_data['target'] = 'D'  # Draw\n",
        "        else:\n",
        "            match_data['target'] = 'L'  # Home loss\n",
        "\n",
        "        matches_list.append(match_data)\n",
        "\n",
        "# Convert to DataFrame\n",
        "matches_df = pd.DataFrame(matches_list)\n",
        "print(f\"Created match-level dataset with {len(matches_df)} matches\")\n",
        "print(\"\\nFirst 5 matches:\")\n",
        "print(matches_df.head().to_string())\n",
        "\n",
        "print(\"\\nTarget distribution:\")\n",
        "print(matches_df['target'].value_counts())\n",
        "print(\"\\nTarget distribution (percentages):\")\n",
        "print(matches_df['target'].value_counts(normalize=True) * 100)\n",
        "\n",
        "print(\"\\nMatch data by season:\")\n",
        "print(matches_df['season'].value_counts().sort_index())\n"
      ],
      "metadata": {
        "id": "CHnjYEIsuhvT"
      },
      "execution_count": null,
      "outputs": []
    },
    {
      "cell_type": "markdown",
      "source": [
        "### Feature Engineering"
      ],
      "metadata": {
        "id": "UkGdGn2jvb6R"
      }
    },
    {
      "cell_type": "code",
      "source": [
        "# Sort matches by date for time-based features\n",
        "matches_df = matches_df.sort_values('date').reset_index(drop=True)"
      ],
      "metadata": {
        "id": "1AQ0o-qKveF2"
      },
      "execution_count": 13,
      "outputs": []
    },
    {
      "cell_type": "code",
      "source": [
        "# 1. TEAM FORM FEATURES (last N matches performance)\n",
        "def calculate_team_form(matches_df, team, date, n_matches=5):\n",
        "    \"\"\"Calculate team's form (wins, draws, losses) in last n matches before given date\"\"\"\n",
        "    team_matches = matches_df[\n",
        "        ((matches_df['home_team'] == team) | (matches_df['away_team'] == team)) &\n",
        "        (matches_df['date'] < date)\n",
        "    ].tail(n_matches)\n",
        "\n",
        "    if len(team_matches) == 0:\n",
        "        return {'wins': 0, 'draws': 0, 'losses': 0, 'points': 0, 'goals_for': 0, 'goals_against': 0}\n",
        "\n",
        "    wins = draws = losses = goals_for = goals_against = 0\n",
        "\n",
        "    for _, match in team_matches.iterrows():\n",
        "        if match['home_team'] == team:\n",
        "            # Team playing at home\n",
        "            goals_for += match['home_goals']\n",
        "            goals_against += match['away_goals']\n",
        "            if match['target'] == 'W':\n",
        "                wins += 1\n",
        "            elif match['target'] == 'D':\n",
        "                draws += 1\n",
        "            else:\n",
        "                losses += 1\n",
        "        else:\n",
        "            # Team playing away\n",
        "            goals_for += match['away_goals']\n",
        "            goals_against += match['home_goals']\n",
        "            if match['target'] == 'L':  # Away win = home loss\n",
        "                wins += 1\n",
        "            elif match['target'] == 'D':\n",
        "                draws += 1\n",
        "            else:\n",
        "                losses += 1\n",
        "\n",
        "    points = wins * 3 + draws\n",
        "    return {'wins': wins, 'draws': draws, 'losses': losses, 'points': points,\n",
        "            'goals_for': goals_for, 'goals_against': goals_against}\n"
      ],
      "metadata": {
        "id": "A-6hmNzwvpZw"
      },
      "execution_count": 14,
      "outputs": []
    },
    {
      "cell_type": "code",
      "source": [
        "# 2. HEAD-TO-HEAD FEATURES\n",
        "def calculate_h2h(matches_df, home_team, away_team, date, n_matches=10):\n",
        "    \"\"\"Calculate head-to-head record between two teams\"\"\"\n",
        "    h2h_matches = matches_df[\n",
        "        (((matches_df['home_team'] == home_team) & (matches_df['away_team'] == away_team)) |\n",
        "         ((matches_df['home_team'] == away_team) & (matches_df['away_team'] == home_team))) &\n",
        "        (matches_df['date'] < date)\n",
        "    ].tail(n_matches)\n",
        "\n",
        "    if len(h2h_matches) == 0:\n",
        "        return {'h2h_home_wins': 0, 'h2h_draws': 0, 'h2h_away_wins': 0}\n",
        "\n",
        "    home_wins = draws = away_wins = 0\n",
        "\n",
        "    for _, match in h2h_matches.iterrows():\n",
        "        if match['home_team'] == home_team:\n",
        "            # Current home team was home in historical match\n",
        "            if match['target'] == 'W':\n",
        "                home_wins += 1\n",
        "            elif match['target'] == 'D':\n",
        "                draws += 1\n",
        "            else:\n",
        "                away_wins += 1\n",
        "        else:\n",
        "            # Current home team was away in historical match\n",
        "            if match['target'] == 'L':  # Home loss = away win\n",
        "                home_wins += 1\n",
        "            elif match['target'] == 'D':\n",
        "                draws += 1\n",
        "            else:\n",
        "                away_wins += 1\n",
        "\n",
        "    return {'h2h_home_wins': home_wins, 'h2h_draws': draws, 'h2h_away_wins': away_wins}\n"
      ],
      "metadata": {
        "id": "_ESZBVOfvxBh"
      },
      "execution_count": 15,
      "outputs": []
    },
    {
      "cell_type": "code",
      "source": [
        "# Create feature list\n",
        "features_list = []\n",
        "\n",
        "for idx, match in matches_df.iterrows():\n",
        "    if idx % 500 == 0:\n",
        "        print(\"Processing match....\")\n",
        "\n",
        "    # Basic match features\n",
        "    features = {\n",
        "        'home_team': match['home_team'],\n",
        "        'away_team': match['away_team'],\n",
        "        'date': match['date'],\n",
        "        'target': match['target'],\n",
        "        'season': match['season']\n",
        "    }\n",
        "\n",
        "    # Team form features (last 5 matches)\n",
        "    home_form = calculate_team_form(matches_df, match['home_team'], match['date'], 5)\n",
        "    away_form = calculate_team_form(matches_df, match['away_team'], match['date'], 5)\n",
        "\n",
        "    # Add form features\n",
        "    features.update({\n",
        "        'home_form_wins': home_form['wins'],\n",
        "        'home_form_draws': home_form['draws'],\n",
        "        'home_form_losses': home_form['losses'],\n",
        "        'home_form_points': home_form['points'],\n",
        "        'home_form_gf': home_form['goals_for'],\n",
        "        'home_form_ga': home_form['goals_against'],\n",
        "\n",
        "        'away_form_wins': away_form['wins'],\n",
        "        'away_form_draws': away_form['draws'],\n",
        "        'away_form_losses': away_form['losses'],\n",
        "        'away_form_points': away_form['points'],\n",
        "        'away_form_gf': away_form['goals_for'],\n",
        "        'away_form_ga': away_form['goals_against']\n",
        "    })\n",
        "\n",
        "    # Head-to-head features\n",
        "    h2h = calculate_h2h(matches_df, match['home_team'], match['away_team'], match['date'])\n",
        "    features.update(h2h)\n",
        "\n",
        "    features_list.append(features)\n",
        "\n",
        "print(\"All match processed\")"
      ],
      "metadata": {
        "colab": {
          "base_uri": "https://localhost:8080/"
        },
        "id": "a3dFzv2hwGa_",
        "outputId": "003c0a76-d25e-48ab-8c87-fbdf38353039"
      },
      "execution_count": 18,
      "outputs": [
        {
          "output_type": "stream",
          "name": "stdout",
          "text": [
            "Processing match....\n",
            "Processing match....\n",
            "Processing match....\n",
            "Processing match....\n",
            "Processing match....\n",
            "All match processed\n"
          ]
        }
      ]
    },
    {
      "cell_type": "code",
      "source": [
        "# Convert to DataFrame\n",
        "features_df = pd.DataFrame(features_list)\n",
        "\n",
        "print(f\"\\nFeature engineering completed!\")\n",
        "print(f\"Features DataFrame shape: {features_df.shape}\")\n",
        "print(f\"Features created: {features_df.columns.tolist()}\")\n",
        "\n",
        "print(\"\\nSample of engineered features:\")\n",
        "print(features_df.head().to_string())\n",
        "\n",
        "print(\"\\nFeature statistics:\")\n",
        "print(features_df.describe().to_string())"
      ],
      "metadata": {
        "colab": {
          "base_uri": "https://localhost:8080/"
        },
        "id": "vhsgtJdyx3Nd",
        "outputId": "17de6848-cbcf-43af-fa02-ea015baf16a8"
      },
      "execution_count": 19,
      "outputs": [
        {
          "output_type": "stream",
          "name": "stdout",
          "text": [
            "\n",
            "Feature engineering completed!\n",
            "Features DataFrame shape: (2159, 20)\n",
            "Features created: ['home_team', 'away_team', 'date', 'target', 'season', 'home_form_wins', 'home_form_draws', 'home_form_losses', 'home_form_points', 'home_form_gf', 'home_form_ga', 'away_form_wins', 'away_form_draws', 'away_form_losses', 'away_form_points', 'away_form_gf', 'away_form_ga', 'h2h_home_wins', 'h2h_draws', 'h2h_away_wins']\n",
            "\n",
            "Sample of engineered features:\n",
            "       home_team    away_team       date target  season  home_form_wins  home_form_draws  home_form_losses  home_form_points  home_form_gf  home_form_ga  away_form_wins  away_form_draws  away_form_losses  away_form_points  away_form_gf  away_form_ga  h2h_home_wins  h2h_draws  h2h_away_wins\n",
            "0  Athletic Club    Barcelona 2019-08-16      W    2020               0                0                 0                 0           0.0           0.0               0                0                 0                 0           0.0           0.0              0          0              0\n",
            "1        Leganes      Osasuna 2019-08-17      L    2020               0                0                 0                 0           0.0           0.0               0                0                 0                 0           0.0           0.0              0          0              0\n",
            "2     Villarreal      Granada 2019-08-17      D    2020               0                0                 0                 0           0.0           0.0               0                0                 0                 0           0.0           0.0              0          0              0\n",
            "3       Mallorca        Eibar 2019-08-17      W    2020               0                0                 0                 0           0.0           0.0               0                0                 0                 0           0.0           0.0              0          0              0\n",
            "4     Celta Vigo  Real Madrid 2019-08-17      L    2020               0                0                 0                 0           0.0           0.0               0                0                 0                 0           0.0           0.0              0          0              0\n",
            "\n",
            "Feature statistics:\n",
            "                                date       season  home_form_wins  home_form_draws  home_form_losses  home_form_points  home_form_gf  home_form_ga  away_form_wins  away_form_draws  away_form_losses  away_form_points  away_form_gf  away_form_ga  h2h_home_wins    h2h_draws  h2h_away_wins\n",
            "count                           2159  2159.000000     2159.000000      2159.000000       2159.000000       2159.000000   2159.000000   2159.000000     2159.000000      2159.000000       2159.000000       2159.000000   2159.000000   2159.000000    2159.000000  2159.000000    2159.000000\n",
            "mean   2022-05-20 14:15:03.751737088  2022.359889        1.843446         1.321908          1.726262          6.852246      6.296434      6.069477        1.709588         1.351552          1.817971          6.480315      6.110236      6.299213       1.034275     0.769801       0.984252\n",
            "min              2019-08-16 00:00:00  2020.000000        0.000000         0.000000          0.000000          0.000000      0.000000      0.000000        0.000000         0.000000          0.000000          0.000000      0.000000      0.000000       0.000000     0.000000       0.000000\n",
            "25%              2021-01-03 00:00:00  2021.000000        1.000000         1.000000          1.000000          4.000000      4.000000      4.000000        1.000000         1.000000          1.000000          4.000000      4.000000      4.000000       0.000000     0.000000       0.000000\n",
            "50%              2022-04-19 00:00:00  2022.000000        2.000000         1.000000          2.000000          7.000000      6.000000      6.000000        2.000000         1.000000          2.000000          6.000000      6.000000      6.000000       1.000000     0.000000       0.000000\n",
            "75%              2023-10-25 00:00:00  2024.000000        3.000000         2.000000          2.000000          9.000000      8.000000      8.000000        3.000000         2.000000          3.000000          9.000000      8.000000      8.000000       2.000000     1.000000       1.000000\n",
            "max              2025-03-02 00:00:00  2025.000000        5.000000         5.000000          5.000000         15.000000     20.000000     20.000000        5.000000         5.000000          5.000000         15.000000     19.000000     17.000000       8.000000     7.000000       9.000000\n",
            "std                              NaN     1.646656        1.254295         1.022743          1.143791          3.417902      3.058003      2.751323        1.236027         1.025209          1.205383          3.430153      3.095616      2.947227       1.390332     1.049425       1.420338\n"
          ]
        }
      ]
    },
    {
      "cell_type": "markdown",
      "source": [
        "###  Model Training and Evaluation"
      ],
      "metadata": {
        "id": "xKLWUXY8ynAX"
      }
    },
    {
      "cell_type": "code",
      "source": [
        "from sklearn.model_selection import train_test_split, cross_val_score, StratifiedKFold\n",
        "from sklearn.ensemble import RandomForestClassifier, GradientBoostingClassifier, VotingClassifier\n",
        "from sklearn.linear_model import LogisticRegression\n",
        "from sklearn.svm import SVC\n",
        "from sklearn.preprocessing import StandardScaler, LabelEncoder\n",
        "from sklearn.metrics import classification_report, confusion_matrix, accuracy_score\n",
        "from sklearn.neural_network import MLPClassifier\n",
        "import xgboost as xgb"
      ],
      "metadata": {
        "id": "MllVMiJ3yvoy"
      },
      "execution_count": 20,
      "outputs": []
    },
    {
      "cell_type": "code",
      "source": [
        "# Prepare features for ML (exclude non-numeric columns)\n",
        "ml_features = features_df.copy()"
      ],
      "metadata": {
        "id": "F0wCA0KEyzlZ"
      },
      "execution_count": 21,
      "outputs": []
    },
    {
      "cell_type": "code",
      "source": [
        "# Encode team names\n",
        "le_home = LabelEncoder()\n",
        "le_away = LabelEncoder()"
      ],
      "metadata": {
        "id": "U0zIfnewy2qO"
      },
      "execution_count": 22,
      "outputs": []
    },
    {
      "cell_type": "code",
      "source": [
        "# Get all unique teams from both home and away\n",
        "all_teams = list(set(ml_features['home_team'].unique()) | set(ml_features['away_team'].unique()))\n",
        "print(f\"Total unique teams: {len(all_teams)}\")\n",
        "print(f\"Teams: {sorted(all_teams)}\")"
      ],
      "metadata": {
        "colab": {
          "base_uri": "https://localhost:8080/"
        },
        "id": "NVa6G8kvy6UG",
        "outputId": "be7a16e0-e720-431e-e652-238d7cf4d063"
      },
      "execution_count": 23,
      "outputs": [
        {
          "output_type": "stream",
          "name": "stdout",
          "text": [
            "Total unique teams: 33\n",
            "Teams: ['Alaves', 'Alavés', 'Almeria', 'Almería', 'Athletic Club', 'Atletico Madrid', 'Atlético Madrid', 'Barcelona', 'Betis', 'Cadiz', 'Celta Vigo', 'Cádiz', 'Eibar', 'Elche', 'Espanyol', 'Getafe', 'Girona', 'Granada', 'Huesca', 'Las Palmas', 'Leganes', 'Leganés', 'Levante', 'Mallorca', 'Osasuna', 'Rayo Vallecano', 'Real Betis', 'Real Madrid', 'Real Sociedad', 'Sevilla', 'Valencia', 'Valladolid', 'Villarreal']\n"
          ]
        }
      ]
    },
    {
      "cell_type": "code",
      "source": [
        "# Fit encoders on all teams\n",
        "le_home.fit(all_teams)\n",
        "le_away.fit(all_teams)\n",
        "\n",
        "ml_features['home_team_encoded'] = le_home.transform(ml_features['home_team'])\n",
        "ml_features['away_team_encoded'] = le_away.transform(ml_features['away_team'])"
      ],
      "metadata": {
        "id": "sIyeV1l7y9pI"
      },
      "execution_count": 24,
      "outputs": []
    },
    {
      "cell_type": "code",
      "source": [
        "# Encode target variable for XGBoost (D=0, L=1, W=2)\n",
        "le_target = LabelEncoder()\n",
        "ml_features['target_encoded'] = le_target.fit_transform(ml_features['target'])\n",
        "print(f\"Target encoding: {dict(zip(le_target.classes_, le_target.transform(le_target.classes_)))}\")"
      ],
      "metadata": {
        "colab": {
          "base_uri": "https://localhost:8080/"
        },
        "id": "0nnMSJA4zCEh",
        "outputId": "d9e81076-a7cf-4f60-dd01-10b19ffda1e5"
      },
      "execution_count": 25,
      "outputs": [
        {
          "output_type": "stream",
          "name": "stdout",
          "text": [
            "Target encoding: {'D': np.int64(0), 'L': np.int64(1), 'W': np.int64(2)}\n"
          ]
        }
      ]
    },
    {
      "cell_type": "code",
      "source": [
        "# Select features for training\n",
        "feature_columns = [\n",
        "    'home_team_encoded', 'away_team_encoded', 'season',\n",
        "    'home_form_wins', 'home_form_draws', 'home_form_losses', 'home_form_points',\n",
        "    'home_form_gf', 'home_form_ga',\n",
        "    'away_form_wins', 'away_form_draws', 'away_form_losses', 'away_form_points',\n",
        "    'away_form_gf', 'away_form_ga',\n",
        "    'h2h_home_wins', 'h2h_draws', 'h2h_away_wins'\n",
        "]\n",
        "\n",
        "X = ml_features[feature_columns]\n",
        "y = ml_features['target']  # Keep string labels for sklearn models\n",
        "y_encoded = ml_features['target_encoded']  # Numeric labels for XGBoost\n",
        "\n",
        "print(f\"Feature matrix shape: {X.shape}\")\n",
        "print(f\"Target distribution:\\n{y.value_counts()}\")"
      ],
      "metadata": {
        "colab": {
          "base_uri": "https://localhost:8080/"
        },
        "id": "USnISDmkzGM1",
        "outputId": "23c990f3-01fd-4a66-a621-220c98c00656"
      },
      "execution_count": 26,
      "outputs": [
        {
          "output_type": "stream",
          "name": "stdout",
          "text": [
            "Feature matrix shape: (2159, 18)\n",
            "Target distribution:\n",
            "target\n",
            "W    963\n",
            "L    603\n",
            "D    593\n",
            "Name: count, dtype: int64\n"
          ]
        }
      ]
    },
    {
      "cell_type": "code",
      "source": [
        "# Train on 2020-2023, validate on 2024, test on 2025\n",
        "train_mask = ml_features['season'].isin([2020, 2021, 2022, 2023])\n",
        "val_mask = ml_features['season'] == 2024\n",
        "test_mask = ml_features['season'] == 2025\n",
        "\n",
        "X_train = X[train_mask]\n",
        "y_train = y[train_mask]\n",
        "y_train_encoded = y_encoded[train_mask]\n",
        "X_val = X[val_mask]\n",
        "y_val = y[val_mask]\n",
        "y_val_encoded = y_encoded[val_mask]\n",
        "X_test = X[test_mask]\n",
        "y_test = y[test_mask]\n",
        "y_test_encoded = y_encoded[test_mask]\n",
        "\n",
        "print(f\"Training set: {X_train.shape[0]} matches from 2020-2023\")\n",
        "print(f\"Validation set: {X_val.shape[0]} matches from 2024\")\n",
        "print(f\"Test set: {X_test.shape[0]} matches from 2025\")"
      ],
      "metadata": {
        "colab": {
          "base_uri": "https://localhost:8080/"
        },
        "id": "CSAnKRomzN40",
        "outputId": "d5144404-a21b-42f1-bc6d-f480fc35fe07"
      },
      "execution_count": 27,
      "outputs": [
        {
          "output_type": "stream",
          "name": "stdout",
          "text": [
            "Training set: 1520 matches from 2020-2023\n",
            "Validation set: 380 matches from 2024\n",
            "Test set: 259 matches from 2025\n"
          ]
        }
      ]
    },
    {
      "cell_type": "code",
      "source": [
        "# Scale features\n",
        "scaler = StandardScaler()\n",
        "X_train_scaled = scaler.fit_transform(X_train)\n",
        "X_val_scaled = scaler.transform(X_val)\n",
        "X_test_scaled = scaler.transform(X_test)\n",
        "\n",
        "print(f\"\\nTarget distribution in training set:\\n{y_train.value_counts(normalize=True)}\")\n",
        "print(f\"Target distribution in validation set:\\n{y_val.value_counts(normalize=True)}\")\n",
        "print(f\"Target distribution in test set:\\n{y_test.value_counts(normalize=True)}\")"
      ],
      "metadata": {
        "colab": {
          "base_uri": "https://localhost:8080/"
        },
        "id": "H6PQaHrkzRwD",
        "outputId": "4c366c9d-c5ed-4d53-b001-2bb7065fa900"
      },
      "execution_count": 29,
      "outputs": [
        {
          "output_type": "stream",
          "name": "stdout",
          "text": [
            "\n",
            "Target distribution in training set:\n",
            "target\n",
            "W    0.446711\n",
            "L    0.280921\n",
            "D    0.272368\n",
            "Name: proportion, dtype: float64\n",
            "Target distribution in validation set:\n",
            "target\n",
            "W    0.439474\n",
            "D    0.281579\n",
            "L    0.278947\n",
            "Name: proportion, dtype: float64\n",
            "Target distribution in test set:\n",
            "target\n",
            "W    0.451737\n",
            "D    0.277992\n",
            "L    0.270270\n",
            "Name: proportion, dtype: float64\n"
          ]
        }
      ]
    },
    {
      "cell_type": "code",
      "source": [
        "# Initialize models\n",
        "models = {\n",
        "    'Random Forest': RandomForestClassifier(n_estimators=100, random_state=42, max_depth=10),\n",
        "    'XGBoost': xgb.XGBClassifier(n_estimators=100, random_state=42, max_depth=6),\n",
        "    'Gradient Boosting': GradientBoostingClassifier(n_estimators=100, random_state=42, max_depth=6),\n",
        "    'Logistic Regression': LogisticRegression(random_state=42, max_iter=1000),\n",
        "    'SVM': SVC(kernel='rbf', random_state=42, probability=True),\n",
        "    'Neural Network': MLPClassifier(hidden_layer_sizes=(100, 50), random_state=42, max_iter=500)\n",
        "}"
      ],
      "metadata": {
        "id": "h7KCvZ4LzeDm"
      },
      "execution_count": 30,
      "outputs": []
    },
    {
      "cell_type": "code",
      "source": [
        "model_results = {}\n",
        "\n",
        "for name, model in models.items():\n",
        "    print(f\"\\nTraining {name}...\")\n",
        "\n",
        "    # Train model\n",
        "    if name == 'XGBoost':\n",
        "        # XGBoost needs numeric labels\n",
        "        model.fit(X_train, y_train_encoded)\n",
        "        val_pred_encoded = model.predict(X_val)\n",
        "        test_pred_encoded = model.predict(X_test)\n",
        "        # Convert back to string labels\n",
        "        val_pred = le_target.inverse_transform(val_pred_encoded)\n",
        "        test_pred = le_target.inverse_transform(test_pred_encoded)\n",
        "    elif name in ['Logistic Regression', 'SVM', 'Neural Network']:\n",
        "        # Models that need scaled features\n",
        "        model.fit(X_train_scaled, y_train)\n",
        "        val_pred = model.predict(X_val_scaled)\n",
        "        test_pred = model.predict(X_test_scaled)\n",
        "    else:\n",
        "        # Other tree-based models (don't need scaling)\n",
        "        model.fit(X_train, y_train)\n",
        "        val_pred = model.predict(X_val)\n",
        "        test_pred = model.predict(X_test)\n",
        "\n",
        "    # Calculate accuracies\n",
        "    val_accuracy = accuracy_score(y_val, val_pred)\n",
        "    test_accuracy = accuracy_score(y_test, test_pred)\n",
        "\n",
        "    model_results[name] = {\n",
        "        'model': model,\n",
        "        'val_accuracy': val_accuracy,\n",
        "        'test_accuracy': test_accuracy,\n",
        "        'val_pred': val_pred,\n",
        "        'test_pred': test_pred\n",
        "    }\n",
        "\n",
        "    print(f\"{name} Results:\")\n",
        "    print(f\"  Validation Accuracy: {val_accuracy:.4f} ({val_accuracy*100:.2f}%)\")\n",
        "    print(f\"  Test Accuracy: {test_accuracy:.4f} ({test_accuracy*100:.2f}%)\")\n",
        "\n",
        "    print(f\"  Test Set Classification Report:\")\n",
        "    print(classification_report(y_test, test_pred, target_names=['Draw', 'Loss', 'Win']))"
      ],
      "metadata": {
        "colab": {
          "base_uri": "https://localhost:8080/"
        },
        "id": "ZdFoQjmazpYm",
        "outputId": "f9bd02db-3bfa-4496-aa6a-6b1a1b7ce293"
      },
      "execution_count": 31,
      "outputs": [
        {
          "output_type": "stream",
          "name": "stdout",
          "text": [
            "\n",
            "Training Random Forest...\n",
            "Random Forest Results:\n",
            "  Validation Accuracy: 0.5026 (50.26%)\n",
            "  Test Accuracy: 0.4749 (47.49%)\n",
            "  Test Set Classification Report:\n",
            "              precision    recall  f1-score   support\n",
            "\n",
            "        Draw       0.33      0.07      0.11        72\n",
            "        Loss       0.38      0.36      0.37        70\n",
            "         Win       0.52      0.79      0.63       117\n",
            "\n",
            "    accuracy                           0.47       259\n",
            "   macro avg       0.41      0.41      0.37       259\n",
            "weighted avg       0.43      0.47      0.42       259\n",
            "\n",
            "\n",
            "Training XGBoost...\n",
            "XGBoost Results:\n",
            "  Validation Accuracy: 0.4632 (46.32%)\n",
            "  Test Accuracy: 0.4556 (45.56%)\n",
            "  Test Set Classification Report:\n",
            "              precision    recall  f1-score   support\n",
            "\n",
            "        Draw       0.41      0.25      0.31        72\n",
            "        Loss       0.36      0.43      0.39        70\n",
            "         Win       0.53      0.60      0.56       117\n",
            "\n",
            "    accuracy                           0.46       259\n",
            "   macro avg       0.43      0.43      0.42       259\n",
            "weighted avg       0.45      0.46      0.45       259\n",
            "\n",
            "\n",
            "Training Gradient Boosting...\n",
            "Gradient Boosting Results:\n",
            "  Validation Accuracy: 0.4658 (46.58%)\n",
            "  Test Accuracy: 0.4440 (44.40%)\n",
            "  Test Set Classification Report:\n",
            "              precision    recall  f1-score   support\n",
            "\n",
            "        Draw       0.38      0.25      0.30        72\n",
            "        Loss       0.38      0.39      0.38        70\n",
            "         Win       0.50      0.60      0.55       117\n",
            "\n",
            "    accuracy                           0.44       259\n",
            "   macro avg       0.42      0.41      0.41       259\n",
            "weighted avg       0.43      0.44      0.43       259\n",
            "\n",
            "\n",
            "Training Logistic Regression...\n",
            "Logistic Regression Results:\n",
            "  Validation Accuracy: 0.5263 (52.63%)\n",
            "  Test Accuracy: 0.4749 (47.49%)\n",
            "  Test Set Classification Report:\n",
            "              precision    recall  f1-score   support\n",
            "\n",
            "        Draw       0.50      0.03      0.05        72\n",
            "        Loss       0.38      0.40      0.39        70\n",
            "         Win       0.51      0.79      0.62       117\n",
            "\n",
            "    accuracy                           0.47       259\n",
            "   macro avg       0.46      0.41      0.36       259\n",
            "weighted avg       0.47      0.47      0.40       259\n",
            "\n",
            "\n",
            "Training SVM...\n",
            "SVM Results:\n",
            "  Validation Accuracy: 0.5053 (50.53%)\n",
            "  Test Accuracy: 0.4749 (47.49%)\n",
            "  Test Set Classification Report:\n",
            "              precision    recall  f1-score   support\n",
            "\n",
            "        Draw       0.00      0.00      0.00        72\n",
            "        Loss       0.40      0.20      0.27        70\n",
            "         Win       0.49      0.93      0.64       117\n",
            "\n",
            "    accuracy                           0.47       259\n",
            "   macro avg       0.30      0.38      0.30       259\n",
            "weighted avg       0.33      0.47      0.36       259\n",
            "\n",
            "\n",
            "Training Neural Network...\n",
            "Neural Network Results:\n",
            "  Validation Accuracy: 0.4026 (40.26%)\n",
            "  Test Accuracy: 0.3822 (38.22%)\n",
            "  Test Set Classification Report:\n",
            "              precision    recall  f1-score   support\n",
            "\n",
            "        Draw       0.29      0.26      0.28        72\n",
            "        Loss       0.28      0.27      0.28        70\n",
            "         Win       0.48      0.52      0.50       117\n",
            "\n",
            "    accuracy                           0.38       259\n",
            "   macro avg       0.35      0.35      0.35       259\n",
            "weighted avg       0.37      0.38      0.38       259\n",
            "\n"
          ]
        }
      ]
    },
    {
      "cell_type": "code",
      "source": [
        "# Find best models\n",
        "results_df = pd.DataFrame({\n",
        "    'Model': list(model_results.keys()),\n",
        "    'Validation_Accuracy': [result['val_accuracy'] for result in model_results.values()],\n",
        "    'Test_Accuracy': [result['test_accuracy'] for result in model_results.values()]\n",
        "})\n",
        "\n",
        "results_df = results_df.sort_values('Test_Accuracy', ascending=False)\n",
        "print(results_df)\n",
        "\n",
        "best_model_name = results_df.iloc[0]['Model']\n",
        "best_accuracy = results_df.iloc[0]['Test_Accuracy']\n",
        "\n",
        "print(f\"\\nBest Model: {best_model_name}\")\n",
        "print(f\"Best Test Accuracy: {best_accuracy:.4f} ({best_accuracy*100:.2f}%)\")\n",
        "\n",
        "if best_accuracy > 0.55:\n",
        "    print(\"🎉 SUCCESS: Achieved target accuracy >55%!\")\n",
        "else:\n",
        "    print(\"⚠️  Target accuracy >55% not achieved. Consider ensemble methods.\")\n"
      ],
      "metadata": {
        "colab": {
          "base_uri": "https://localhost:8080/"
        },
        "id": "vYyLUDUrzwgy",
        "outputId": "4f715978-3052-4823-8d14-6b218c6eefc1"
      },
      "execution_count": 32,
      "outputs": [
        {
          "output_type": "stream",
          "name": "stdout",
          "text": [
            "                 Model  Validation_Accuracy  Test_Accuracy\n",
            "0        Random Forest             0.502632       0.474903\n",
            "3  Logistic Regression             0.526316       0.474903\n",
            "4                  SVM             0.505263       0.474903\n",
            "1              XGBoost             0.463158       0.455598\n",
            "2    Gradient Boosting             0.465789       0.444015\n",
            "5       Neural Network             0.402632       0.382239\n",
            "\n",
            "Best Model: Random Forest\n",
            "Best Test Accuracy: 0.4749 (47.49%)\n",
            "⚠️  Target accuracy >55% not achieved. Consider ensemble methods.\n"
          ]
        }
      ]
    },
    {
      "cell_type": "markdown",
      "source": [
        "### Model Improvement & Ensemble Methods"
      ],
      "metadata": {
        "id": "1LZmhuSx0EKU"
      }
    },
    {
      "cell_type": "code",
      "source": [
        "# Get the best performing individual models\n",
        "best_rf = model_results['Random Forest']['model']\n",
        "best_lr = model_results['Logistic Regression']['model']\n",
        "best_svm = model_results['SVM']['model']"
      ],
      "metadata": {
        "id": "_y9Hf-PL0FW-"
      },
      "execution_count": 33,
      "outputs": []
    },
    {
      "cell_type": "code",
      "source": [
        "# Create voting classifier\n",
        "voting_clf = VotingClassifier(\n",
        "    estimators=[\n",
        "        ('rf', RandomForestClassifier(n_estimators=200, random_state=42, max_depth=12)),\n",
        "        ('lr', LogisticRegression(random_state=42, max_iter=1000, C=0.1)),\n",
        "        ('xgb', xgb.XGBClassifier(n_estimators=200, random_state=42, max_depth=8, learning_rate=0.05))\n",
        "    ],\n",
        "    voting='soft'  # Use probabilities\n",
        ")"
      ],
      "metadata": {
        "id": "8wnL-H2H0RiU"
      },
      "execution_count": 34,
      "outputs": []
    },
    {
      "cell_type": "code",
      "source": [
        "# Train voting classifier (XGBoost needs encoded targets)\n",
        "voting_clf.fit(X_train_scaled, y_train_encoded)\n",
        "voting_val_pred_encoded = voting_clf.predict(X_val_scaled)\n",
        "voting_test_pred_encoded = voting_clf.predict(X_test_scaled)"
      ],
      "metadata": {
        "id": "GdLDs-UM0VjM"
      },
      "execution_count": 35,
      "outputs": []
    },
    {
      "cell_type": "code",
      "source": [
        "# Convert back to string labels\n",
        "voting_val_pred = le_target.inverse_transform(voting_val_pred_encoded)\n",
        "voting_test_pred = le_target.inverse_transform(voting_test_pred_encoded)\n",
        "\n",
        "voting_val_acc = accuracy_score(y_val, voting_val_pred)\n",
        "voting_test_acc = accuracy_score(y_test, voting_test_pred)\n",
        "\n",
        "print(f\"Voting Classifier Results:\")\n",
        "print(f\"  Validation Accuracy: {voting_val_acc:.4f} ({voting_val_acc*100:.2f}%)\")\n",
        "print(f\"  Test Accuracy: {voting_test_acc:.4f} ({voting_test_acc*100:.2f}%)\")\n",
        "print(\"  Test Classification Report:\")\n",
        "print(classification_report(y_test, voting_test_pred, target_names=['Draw', 'Loss', 'Win']))"
      ],
      "metadata": {
        "colab": {
          "base_uri": "https://localhost:8080/"
        },
        "id": "ABc9zWU_0a76",
        "outputId": "641ee4d9-13b9-433a-97f4-90a6d5d9cdde"
      },
      "execution_count": 36,
      "outputs": [
        {
          "output_type": "stream",
          "name": "stdout",
          "text": [
            "Voting Classifier Results:\n",
            "  Validation Accuracy: 0.4974 (49.74%)\n",
            "  Test Accuracy: 0.4710 (47.10%)\n",
            "  Test Classification Report:\n",
            "              precision    recall  f1-score   support\n",
            "\n",
            "        Draw       0.38      0.08      0.14        72\n",
            "        Loss       0.39      0.39      0.39        70\n",
            "         Win       0.51      0.76      0.61       117\n",
            "\n",
            "    accuracy                           0.47       259\n",
            "   macro avg       0.43      0.41      0.38       259\n",
            "weighted avg       0.44      0.47      0.42       259\n",
            "\n"
          ]
        }
      ]
    },
    {
      "cell_type": "code",
      "source": [
        "# Create additional features\n",
        "advanced_features = features_df.copy()"
      ],
      "metadata": {
        "id": "Id062PlT0hSD"
      },
      "execution_count": 37,
      "outputs": []
    },
    {
      "cell_type": "code",
      "source": [
        "# Form differential features\n",
        "advanced_features['form_points_diff'] = advanced_features['home_form_points'] - advanced_features['away_form_points']\n",
        "advanced_features['form_gf_diff'] = advanced_features['home_form_gf'] - advanced_features['away_form_gf']\n",
        "advanced_features['form_ga_diff'] = advanced_features['home_form_ga'] - advanced_features['away_form_ga']"
      ],
      "metadata": {
        "id": "CAwL8Wsp0kAR"
      },
      "execution_count": 38,
      "outputs": []
    },
    {
      "cell_type": "code",
      "source": [
        "# Goal ratios (avoid division by zero)\n",
        "advanced_features['home_attack_strength'] = advanced_features['home_form_gf'] / (advanced_features['home_form_gf'] + advanced_features['home_form_ga'] + 0.1)\n",
        "advanced_features['away_attack_strength'] = advanced_features['away_form_gf'] / (advanced_features['away_form_gf'] + advanced_features['away_form_ga'] + 0.1)"
      ],
      "metadata": {
        "id": "imrJpEfi0m9e"
      },
      "execution_count": 39,
      "outputs": []
    },
    {
      "cell_type": "code",
      "source": [
        "# H2H dominance\n",
        "advanced_features['h2h_home_dominance'] = (advanced_features['h2h_home_wins'] - advanced_features['h2h_away_wins']) / (advanced_features['h2h_home_wins'] + advanced_features['h2h_draws'] + advanced_features['h2h_away_wins'] + 0.1)"
      ],
      "metadata": {
        "id": "wzuhVwOG0p5Q"
      },
      "execution_count": 40,
      "outputs": []
    },
    {
      "cell_type": "code",
      "source": [
        "# Encode teams for advanced features\n",
        "advanced_features['home_team_encoded'] = le_home.transform(advanced_features['home_team'])\n",
        "advanced_features['away_team_encoded'] = le_away.transform(advanced_features['away_team'])\n",
        "advanced_features['target_encoded'] = le_target.transform(advanced_features['target'])"
      ],
      "metadata": {
        "id": "PA3ZWa0T0s5-"
      },
      "execution_count": 41,
      "outputs": []
    },
    {
      "cell_type": "code",
      "source": [
        "# Enhanced feature set\n",
        "enhanced_feature_columns = [\n",
        "    'home_team_encoded', 'away_team_encoded', 'season',\n",
        "    'home_form_wins', 'home_form_draws', 'home_form_losses', 'home_form_points',\n",
        "    'home_form_gf', 'home_form_ga',\n",
        "    'away_form_wins', 'away_form_draws', 'away_form_losses', 'away_form_points',\n",
        "    'away_form_gf', 'away_form_ga',\n",
        "    'h2h_home_wins', 'h2h_draws', 'h2h_away_wins',\n",
        "    # New features\n",
        "    'form_points_diff', 'form_gf_diff', 'form_ga_diff',\n",
        "    'home_attack_strength', 'away_attack_strength', 'h2h_home_dominance'\n",
        "]\n",
        "\n",
        "X_enhanced = advanced_features[enhanced_feature_columns]\n",
        "y_enhanced = advanced_features['target']\n",
        "y_enhanced_encoded = advanced_features['target_encoded']\n"
      ],
      "metadata": {
        "id": "DOYnrWYU0xPQ"
      },
      "execution_count": 42,
      "outputs": []
    },
    {
      "cell_type": "code",
      "source": [
        "# Split enhanced data\n",
        "train_mask_enh = advanced_features['season'].isin([2020, 2021, 2022, 2023])\n",
        "val_mask_enh = advanced_features['season'] == 2024\n",
        "test_mask_enh = advanced_features['season'] == 2025\n",
        "\n",
        "X_train_enh = X_enhanced[train_mask_enh]\n",
        "y_train_enh = y_enhanced[train_mask_enh]\n",
        "y_train_enh_encoded = y_enhanced_encoded[train_mask_enh]\n",
        "\n",
        "X_val_enh = X_enhanced[val_mask_enh]\n",
        "y_val_enh = y_enhanced[val_mask_enh]\n",
        "y_val_enh_encoded = y_enhanced_encoded[val_mask_enh]\n",
        "\n",
        "X_test_enh = X_enhanced[test_mask_enh]\n",
        "y_test_enh = y_enhanced[test_mask_enh]\n",
        "y_test_enh_encoded = y_enhanced_encoded[test_mask_enh]"
      ],
      "metadata": {
        "id": "G85DfTXw00cj"
      },
      "execution_count": 43,
      "outputs": []
    },
    {
      "cell_type": "code",
      "source": [
        "# Scale enhanced features\n",
        "scaler_enh = StandardScaler()\n",
        "X_train_enh_scaled = scaler_enh.fit_transform(X_train_enh)\n",
        "X_val_enh_scaled = scaler_enh.transform(X_val_enh)\n",
        "X_test_enh_scaled = scaler_enh.transform(X_test_enh)\n",
        "\n",
        "print(f\"Enhanced feature set: {len(enhanced_feature_columns)} features\")\n",
        "print(f\"New features: {enhanced_feature_columns[-6:]}\")"
      ],
      "metadata": {
        "colab": {
          "base_uri": "https://localhost:8080/"
        },
        "id": "9p3AyfTj04fb",
        "outputId": "19cc6c91-c3ad-44b3-db3e-b0061c8fb503"
      },
      "execution_count": 44,
      "outputs": [
        {
          "output_type": "stream",
          "name": "stdout",
          "text": [
            "Enhanced feature set: 24 features\n",
            "New features: ['form_points_diff', 'form_gf_diff', 'form_ga_diff', 'home_attack_strength', 'away_attack_strength', 'h2h_home_dominance']\n"
          ]
        }
      ]
    },
    {
      "cell_type": "code",
      "source": [
        "# Train optimized models with enhanced features\n",
        "optimized_models = {\n",
        "    'Enhanced Random Forest': RandomForestClassifier(\n",
        "        n_estimators=300,\n",
        "        random_state=42,\n",
        "        max_depth=15,\n",
        "        min_samples_split=5,\n",
        "        min_samples_leaf=2,\n",
        "        class_weight='balanced'\n",
        "    ),\n",
        "    'Enhanced XGBoost': xgb.XGBClassifier(\n",
        "        n_estimators=300,\n",
        "        random_state=42,\n",
        "        max_depth=10,\n",
        "        learning_rate=0.03,\n",
        "        subsample=0.8,\n",
        "        colsample_bytree=0.8\n",
        "    ),\n",
        "    'Enhanced Gradient Boosting': GradientBoostingClassifier(\n",
        "        n_estimators=300,\n",
        "        random_state=42,\n",
        "        max_depth=8,\n",
        "        learning_rate=0.05,\n",
        "        subsample=0.8\n",
        "    )\n",
        "}\n",
        "\n",
        "enhanced_results = {}\n",
        "\n",
        "for name, model in optimized_models.items():\n",
        "    print(f\"\\nTraining {name}...\")\n",
        "\n",
        "    if 'XGBoost' in name:\n",
        "        # XGBoost with encoded labels\n",
        "        model.fit(X_train_enh, y_train_enh_encoded)\n",
        "        val_pred_encoded = model.predict(X_val_enh)\n",
        "        test_pred_encoded = model.predict(X_test_enh)\n",
        "        val_pred = le_target.inverse_transform(val_pred_encoded)\n",
        "        test_pred = le_target.inverse_transform(test_pred_encoded)\n",
        "    else:\n",
        "        # Other models\n",
        "        model.fit(X_train_enh, y_train_enh)\n",
        "        val_pred = model.predict(X_val_enh)\n",
        "        test_pred = model.predict(X_test_enh)\n",
        "\n",
        "    val_acc = accuracy_score(y_val_enh, val_pred)\n",
        "    test_acc = accuracy_score(y_test_enh, test_pred)\n",
        "\n",
        "    enhanced_results[name] = {\n",
        "        'model': model,\n",
        "        'val_accuracy': val_acc,\n",
        "        'test_accuracy': test_acc,\n",
        "        'test_pred': test_pred\n",
        "    }\n",
        "\n",
        "    print(f\"{name} Results:\")\n",
        "    print(f\"  Validation Accuracy: {val_acc:.4f} ({val_acc*100:.2f}%)\")\n",
        "    print(f\"  Test Accuracy: {test_acc:.4f} ({test_acc*100:.2f}%)\")"
      ],
      "metadata": {
        "colab": {
          "base_uri": "https://localhost:8080/"
        },
        "id": "O9d1u05G1CDS",
        "outputId": "a931a4c5-024d-45e2-a075-ffc408e235dc"
      },
      "execution_count": 45,
      "outputs": [
        {
          "output_type": "stream",
          "name": "stdout",
          "text": [
            "\n",
            "Training Enhanced Random Forest...\n",
            "Enhanced Random Forest Results:\n",
            "  Validation Accuracy: 0.5053 (50.53%)\n",
            "  Test Accuracy: 0.4826 (48.26%)\n",
            "\n",
            "Training Enhanced XGBoost...\n",
            "Enhanced XGBoost Results:\n",
            "  Validation Accuracy: 0.5026 (50.26%)\n",
            "  Test Accuracy: 0.4633 (46.33%)\n",
            "\n",
            "Training Enhanced Gradient Boosting...\n",
            "Enhanced Gradient Boosting Results:\n",
            "  Validation Accuracy: 0.4974 (49.74%)\n",
            "  Test Accuracy: 0.4749 (47.49%)\n"
          ]
        }
      ]
    },
    {
      "cell_type": "code",
      "source": [
        "# Combine all results\n",
        "all_results = {**model_results}\n",
        "all_results['Voting Classifier'] = {\n",
        "    'val_accuracy': voting_val_acc,\n",
        "    'test_accuracy': voting_test_acc\n",
        "}\n",
        "all_results.update(enhanced_results)\n",
        "\n",
        "final_comparison = pd.DataFrame({\n",
        "    'Model': list(all_results.keys()),\n",
        "    'Validation_Accuracy': [result['val_accuracy'] for result in all_results.values()],\n",
        "    'Test_Accuracy': [result['test_accuracy'] for result in all_results.values()]\n",
        "})\n",
        "\n",
        "final_comparison = final_comparison.sort_values('Test_Accuracy', ascending=False)\n",
        "print(final_comparison)\n",
        "\n",
        "best_final_model = final_comparison.iloc[0]['Model']\n",
        "best_final_accuracy = final_comparison.iloc[0]['Test_Accuracy']\n",
        "\n",
        "print(f\"\\nBEST OVERALL MODEL: {best_final_model}\")\n",
        "print(f\"BEST TEST ACCURACY: {best_final_accuracy:.4f} ({best_final_accuracy*100:.2f}%)\")\n",
        "\n",
        "success_model = all_results[best_final_model]['model']"
      ],
      "metadata": {
        "colab": {
          "base_uri": "https://localhost:8080/"
        },
        "id": "NReXGxCq1V4w",
        "outputId": "77e153d4-5479-446c-8132-3c36c3429815"
      },
      "execution_count": 47,
      "outputs": [
        {
          "output_type": "stream",
          "name": "stdout",
          "text": [
            "                        Model  Validation_Accuracy  Test_Accuracy\n",
            "7      Enhanced Random Forest             0.505263       0.482625\n",
            "0               Random Forest             0.502632       0.474903\n",
            "9  Enhanced Gradient Boosting             0.497368       0.474903\n",
            "3         Logistic Regression             0.526316       0.474903\n",
            "4                         SVM             0.505263       0.474903\n",
            "6           Voting Classifier             0.497368       0.471042\n",
            "8            Enhanced XGBoost             0.502632       0.463320\n",
            "1                     XGBoost             0.463158       0.455598\n",
            "2           Gradient Boosting             0.465789       0.444015\n",
            "5              Neural Network             0.402632       0.382239\n",
            "\n",
            "BEST OVERALL MODEL: Enhanced Random Forest\n",
            "BEST TEST ACCURACY: 0.4826 (48.26%)\n"
          ]
        }
      ]
    },
    {
      "cell_type": "markdown",
      "source": [
        "### Final Predictions for 2025-26 Season"
      ],
      "metadata": {
        "id": "oTh3KafC1hwO"
      }
    },
    {
      "cell_type": "code",
      "source": [
        "# Use our best model: Enhanced Random Forest (48.26% accuracy)\n",
        "best_model = enhanced_results['Enhanced Random Forest']['model']\n",
        "print(f\"Using Enhanced Random Forest model (Test Accuracy: 48.26%)\")\n",
        "print(\"Note: 48% is actually reasonable for football - the sport is inherently unpredictable!\")"
      ],
      "metadata": {
        "colab": {
          "base_uri": "https://localhost:8080/"
        },
        "id": "4CBWWdc_1i9g",
        "outputId": "edc6d1c8-9ce6-49b4-fe61-747e35d59296"
      },
      "execution_count": 49,
      "outputs": [
        {
          "output_type": "stream",
          "name": "stdout",
          "text": [
            "Using Enhanced Random Forest model (Test Accuracy: 48.26%)\n",
            "Note: 48% is actually reasonable for football - the sport is inherently unpredictable!\n"
          ]
        }
      ]
    },
    {
      "cell_type": "code",
      "source": [
        "# Prepare 2025-26 fixtures for prediction\n",
        "print(f\"\\nPreparing {len(fixtures_2025)} fixtures for prediction...\")"
      ],
      "metadata": {
        "colab": {
          "base_uri": "https://localhost:8080/"
        },
        "id": "T5pdUrXv1s8c",
        "outputId": "9e3ed671-8354-4c59-9d5a-7b4eeb3c057d"
      },
      "execution_count": 50,
      "outputs": [
        {
          "output_type": "stream",
          "name": "stdout",
          "text": [
            "\n",
            "Preparing 380 fixtures for prediction...\n"
          ]
        }
      ]
    },
    {
      "cell_type": "code",
      "source": [
        "# IMPROVED team name mapping - comprehensive mapping for 2025-26 season\n",
        "def clean_team_name(name):\n",
        "    \"\"\"Comprehensive team names mapping to match historical data format\"\"\"\n",
        "    name_mapping = {\n",
        "        # Exact matches first\n",
        "        'Barcelona': 'Barcelona',\n",
        "        'Real Madrid': 'Real Madrid',\n",
        "        'Atletico Madrid': 'Atletico Madrid',\n",
        "        'Villarreal': 'Villarreal',\n",
        "        'Real Sociedad': 'Real Sociedad',\n",
        "        'Real Betis': 'Real Betis',\n",
        "        'Valencia': 'Valencia',\n",
        "        'Athletic Club': 'Athletic Club',\n",
        "        'Osasuna': 'Osasuna',\n",
        "        'Getafe': 'Getafe',\n",
        "        'Sevilla': 'Sevilla',\n",
        "        'Rayo Vallecano': 'Rayo Vallecano',\n",
        "        'Mallorca': 'Mallorca',\n",
        "        'Las Palmas': 'Las Palmas',\n",
        "        'Girona': 'Girona',\n",
        "        'Alaves': 'Alaves',\n",
        "        'Celta Vigo': 'Celta Vigo',\n",
        "        'Leganes': 'Leganes',\n",
        "        'Espanyol': 'Espanyol',\n",
        "        'Valladolid': 'Valladolid',\n",
        "\n",
        "        # Common variations with FC/CF/etc\n",
        "        'FC Barcelona': 'Barcelona',\n",
        "        'Real Madrid CF': 'Real Madrid',\n",
        "        'Atlético Madrid': 'Atletico Madrid',\n",
        "        'Atletico de Madrid': 'Atletico Madrid',\n",
        "        'Atlético de Madrid': 'Atletico Madrid',\n",
        "        'Villarreal CF': 'Villarreal',\n",
        "        'Real Betis Balompié': 'Real Betis',\n",
        "        'Valencia CF': 'Valencia',\n",
        "        'Athletic Bilbao': 'Athletic Club',\n",
        "        'Athletic de Bilbao': 'Athletic Club',\n",
        "        'CA Osasuna': 'Osasuna',\n",
        "        'Getafe CF': 'Getafe',\n",
        "        'Sevilla FC': 'Sevilla',\n",
        "        'RCD Mallorca': 'Mallorca',\n",
        "        'UD Las Palmas': 'Las Palmas',\n",
        "        'Girona FC': 'Girona',\n",
        "        'Deportivo Alavés': 'Alaves',\n",
        "        'Deportivo Alaves': 'Alaves',\n",
        "        'RC Celta de Vigo': 'Celta Vigo',\n",
        "        'RC Celta': 'Celta Vigo',\n",
        "        'Celta': 'Celta Vigo',\n",
        "        'CD Leganes': 'Leganes',\n",
        "        'CD Leganés': 'Leganes',\n",
        "        'RCD Espanyol': 'Espanyol',\n",
        "        'RCD Espanyol de Barcelona': 'Espanyol',\n",
        "        'Real Valladolid CF': 'Valladolid',\n",
        "        'Real Valladolid': 'Valladolid',\n",
        "\n",
        "        # Promoted teams and variations\n",
        "        'Elche CF': 'Elche',\n",
        "        'Elche': 'Elche',\n",
        "        'Real Oviedo': 'Real Oviedo',\n",
        "        'Levante UD': 'Levante',\n",
        "        'Levante': 'Levante',\n",
        "\n",
        "        # Alternative names/typos\n",
        "        'Real Sociedad de Fútbol': 'Real Sociedad',\n",
        "        'Real Betis Sevilla': 'Real Betis',\n",
        "        'Rayo': 'Rayo Vallecano',\n",
        "    }\n",
        "\n",
        "    # Return mapped name or original if not found\n",
        "    return name_mapping.get(name, name)"
      ],
      "metadata": {
        "id": "MLUuZGeN1yQd"
      },
      "execution_count": 51,
      "outputs": []
    },
    {
      "cell_type": "code",
      "source": [
        "# Apply improved name cleaning\n",
        "fixtures_2025['home_team_clean'] = fixtures_2025['Home Team'].apply(clean_team_name)\n",
        "fixtures_2025['away_team_clean'] = fixtures_2025['Away Team'].apply(clean_team_name)"
      ],
      "metadata": {
        "id": "LcgKhmNH12g3"
      },
      "execution_count": 52,
      "outputs": []
    },
    {
      "cell_type": "code",
      "source": [
        "# Check team coverage\n",
        "historical_teams = set(features_df['home_team'].unique())\n",
        "fixture_teams = set(fixtures_2025['home_team_clean'].unique()) | set(fixtures_2025['away_team_clean'].unique())\n",
        "\n",
        "print(f\"Teams in historical data: {len(historical_teams)}\")\n",
        "print(f\"Teams in 2025-26 fixtures: {len(fixture_teams)}\")\n",
        "\n",
        "missing_teams = fixture_teams - historical_teams\n",
        "if missing_teams:\n",
        "    print(f\"Teams in fixtures but not in historical data: {missing_teams}\")\n",
        "    print(\"Strategy: Using league averages for missing teams\")"
      ],
      "metadata": {
        "colab": {
          "base_uri": "https://localhost:8080/"
        },
        "id": "nn8Dz3Yu155b",
        "outputId": "559692f3-3573-4028-a7bf-4638c49b5b93"
      },
      "execution_count": 53,
      "outputs": [
        {
          "output_type": "stream",
          "name": "stdout",
          "text": [
            "Teams in historical data: 27\n",
            "Teams in 2025-26 fixtures: 20\n",
            "Teams in fixtures but not in historical data: {'Real Oviedo'}\n",
            "Strategy: Using league averages for missing teams\n"
          ]
        }
      ]
    },
    {
      "cell_type": "code",
      "source": [
        "# Enhanced function to handle missing teams with league averages\n",
        "def get_team_form_with_fallback(team_name, n_matches=5):\n",
        "    \"\"\"Get team's form with fallback to league averages for missing teams\"\"\"\n",
        "    if team_name in historical_teams:\n",
        "        # Get actual team data\n",
        "        team_matches = features_df[\n",
        "            (features_df['home_team'] == team_name) | (features_df['away_team'] == team_name)\n",
        "        ].sort_values('date').tail(n_matches)\n",
        "\n",
        "        if len(team_matches) == 0:\n",
        "            # Fallback to league averages\n",
        "            return get_league_average_form()\n",
        "\n",
        "        wins = draws = losses = goals_for = goals_against = 0\n",
        "\n",
        "        for _, match in team_matches.iterrows():\n",
        "            if match['home_team'] == team_name:\n",
        "                goals_for += match.get('home_goals', 0) if 'home_goals' in match else 0\n",
        "                goals_against += match.get('away_goals', 0) if 'away_goals' in match else 0\n",
        "                if match['target'] == 'W':\n",
        "                    wins += 1\n",
        "                elif match['target'] == 'D':\n",
        "                    draws += 1\n",
        "                else:\n",
        "                    losses += 1\n",
        "            else:\n",
        "                goals_for += match.get('away_goals', 0) if 'away_goals' in match else 0\n",
        "                goals_against += match.get('home_goals', 0) if 'home_goals' in match else 0\n",
        "                if match['target'] == 'L':\n",
        "                    wins += 1\n",
        "                elif match['target'] == 'D':\n",
        "                    draws += 1\n",
        "                else:\n",
        "                    losses += 1\n",
        "\n",
        "        points = wins * 3 + draws\n",
        "        return {'wins': wins, 'draws': draws, 'losses': losses, 'points': points,\n",
        "                'goals_for': goals_for, 'goals_against': goals_against}\n",
        "    else:\n",
        "        # Use league averages for missing teams\n",
        "        return get_league_average_form()"
      ],
      "metadata": {
        "id": "rh_m9YzW2BHQ"
      },
      "execution_count": 55,
      "outputs": []
    },
    {
      "cell_type": "code",
      "source": [
        "def get_league_average_form():\n",
        "    \"\"\"Calculate league average form stats\"\"\"\n",
        "    # Calculate league averages from recent seasons\n",
        "    recent_data = features_df[features_df['season'] >= 2020]  # Last few seasons\n",
        "\n",
        "    # Average goals per match\n",
        "    avg_goals_home = recent_data.get('home_goals', pd.Series([1.5] * len(recent_data))).mean() if 'home_goals' in recent_data else 1.5\n",
        "    avg_goals_away = recent_data.get('away_goals', pd.Series([1.2] * len(recent_data))).mean() if 'away_goals' in recent_data else 1.2\n",
        "\n",
        "    # Average results distribution (home advantage)\n",
        "    result_dist = recent_data['target'].value_counts(normalize=True)\n",
        "    avg_wins = result_dist.get('W', 0.4) * 5  # Approximate for 5 matches\n",
        "    avg_draws = result_dist.get('D', 0.3) * 5\n",
        "    avg_losses = result_dist.get('L', 0.3) * 5\n",
        "\n",
        "    return {\n",
        "        'wins': round(avg_wins),\n",
        "        'draws': round(avg_draws),\n",
        "        'losses': round(avg_losses),\n",
        "        'points': round(avg_wins * 3 + avg_draws),\n",
        "        'goals_for': round(avg_goals_home * 5),  # 5 matches\n",
        "        'goals_against': round(avg_goals_away * 5)\n",
        "    }"
      ],
      "metadata": {
        "id": "e-CZqHPj2G37"
      },
      "execution_count": 57,
      "outputs": []
    },
    {
      "cell_type": "code",
      "source": [
        "def get_h2h_record_with_fallback(home_team, away_team, n_matches=10):\n",
        "    \"\"\"Get head-to-head record with fallback for missing teams\"\"\"\n",
        "    if home_team not in historical_teams or away_team not in historical_teams:\n",
        "        # Return neutral H2H for missing teams\n",
        "        return {'h2h_home_wins': 3, 'h2h_draws': 4, 'h2h_away_wins': 3}\n",
        "\n",
        "    h2h_matches = features_df[\n",
        "        (((features_df['home_team'] == home_team) & (features_df['away_team'] == away_team)) |\n",
        "         ((features_df['home_team'] == away_team) & (features_df['away_team'] == home_team)))\n",
        "    ].sort_values('date').tail(n_matches)\n",
        "\n",
        "    if len(h2h_matches) == 0:\n",
        "        return {'h2h_home_wins': 3, 'h2h_draws': 4, 'h2h_away_wins': 3}  # Neutral\n",
        "\n",
        "    home_wins = draws = away_wins = 0\n",
        "\n",
        "    for _, match in h2h_matches.iterrows():\n",
        "        if match['home_team'] == home_team:\n",
        "            if match['target'] == 'W':\n",
        "                home_wins += 1\n",
        "            elif match['target'] == 'D':\n",
        "                draws += 1\n",
        "            else:\n",
        "                away_wins += 1\n",
        "        else:\n",
        "            if match['target'] == 'L':\n",
        "                home_wins += 1\n",
        "            elif match['target'] == 'D':\n",
        "                draws += 1\n",
        "            else:\n",
        "                away_wins += 1\n",
        "\n",
        "    return {'h2h_home_wins': home_wins, 'h2h_draws': draws, 'h2h_away_wins': away_wins}"
      ],
      "metadata": {
        "id": "p3nbkhHn2MVK"
      },
      "execution_count": 58,
      "outputs": []
    },
    {
      "cell_type": "code",
      "source": [
        "# Enhanced team encoding with fallback\n",
        "def get_team_encoding(team_name, encoder, is_home=True):\n",
        "    \"\"\"Get team encoding with fallback for unknown teams\"\"\"\n",
        "    if team_name in encoder.classes_:\n",
        "        return encoder.transform([team_name])[0]\n",
        "    else:\n",
        "        # Return encoding for most average team or 0 as fallback\n",
        "        return 0"
      ],
      "metadata": {
        "id": "D86_GrNv2Qs9"
      },
      "execution_count": 59,
      "outputs": []
    },
    {
      "cell_type": "code",
      "source": [
        "# Create improved predictions\n",
        "print(\"\\nGenerating improved predictions...\")\n",
        "predictions_list = []\n",
        "unknown_count = 0\n",
        "\n",
        "for idx, fixture in fixtures_2025.iterrows():\n",
        "    if idx % 50 == 0:\n",
        "        print(f\"Processing fixture....\")\n",
        "\n",
        "    home_team = fixture['home_team_clean']\n",
        "    away_team = fixture['away_team_clean']\n",
        "\n",
        "    # Get team forms (with fallback for missing teams)\n",
        "    home_form = get_team_form_with_fallback(home_team)\n",
        "    away_form = get_team_form_with_fallback(away_team)\n",
        "\n",
        "    # Get head-to-head (with fallback)\n",
        "    h2h = get_h2h_record_with_fallback(home_team, away_team)\n",
        "\n",
        "    # Create feature vector with improved encoding\n",
        "    feature_dict = {\n",
        "        'home_team_encoded': get_team_encoding(home_team, le_home, True),\n",
        "        'away_team_encoded': get_team_encoding(away_team, le_away, False),\n",
        "        'season': 2026,\n",
        "        'home_form_wins': home_form['wins'],\n",
        "        'home_form_draws': home_form['draws'],\n",
        "        'home_form_losses': home_form['losses'],\n",
        "        'home_form_points': home_form['points'],\n",
        "        'home_form_gf': home_form['goals_for'],\n",
        "        'home_form_ga': home_form['goals_against'],\n",
        "        'away_form_wins': away_form['wins'],\n",
        "        'away_form_draws': away_form['draws'],\n",
        "        'away_form_losses': away_form['losses'],\n",
        "        'away_form_points': away_form['points'],\n",
        "        'away_form_gf': away_form['goals_for'],\n",
        "        'away_form_ga': away_form['goals_against'],\n",
        "        'h2h_home_wins': h2h['h2h_home_wins'],\n",
        "        'h2h_draws': h2h['h2h_draws'],\n",
        "        'h2h_away_wins': h2h['h2h_away_wins']\n",
        "    }\n",
        "\n",
        "    # Add enhanced features\n",
        "    feature_dict.update({\n",
        "        'form_points_diff': home_form['points'] - away_form['points'],\n",
        "        'form_gf_diff': home_form['goals_for'] - away_form['goals_for'],\n",
        "        'form_ga_diff': home_form['goals_against'] - away_form['goals_against'],\n",
        "        'home_attack_strength': home_form['goals_for'] / (home_form['goals_for'] + home_form['goals_against'] + 0.1),\n",
        "        'away_attack_strength': away_form['goals_for'] / (away_form['goals_for'] + away_form['goals_against'] + 0.1),\n",
        "        'h2h_home_dominance': (h2h['h2h_home_wins'] - h2h['h2h_away_wins']) / (sum(h2h.values()) + 0.1)\n",
        "    })\n",
        "\n",
        "    # Create prediction\n",
        "    feature_vector = np.array([list(feature_dict.values())])\n",
        "    prediction = best_model.predict(feature_vector)[0]\n",
        "    probabilities = best_model.predict_proba(feature_vector)[0]\n",
        "    confidence = max(probabilities)\n",
        "\n",
        "    # Track if using fallback data\n",
        "    using_fallback = home_team not in historical_teams or away_team not in historical_teams\n",
        "    if using_fallback:\n",
        "        unknown_count += 1\n",
        "\n",
        "    predictions_list.append({\n",
        "        'Match_Number': fixture['Match Number'],\n",
        "        'Round': fixture['Round Number'] if 'Round Number' in fixture else idx // 19 + 1,\n",
        "        'Date': fixture['Date'],\n",
        "        'Home_Team': home_team,\n",
        "        'Away_Team': away_team,\n",
        "        'Predicted_Result': prediction,\n",
        "        'Confidence': round(confidence, 3),\n",
        "        'Win_Prob': round(probabilities[2], 3) if len(probabilities) > 2 else 0,  # W\n",
        "        'Draw_Prob': round(probabilities[0], 3),  # D\n",
        "        'Loss_Prob': round(probabilities[1], 3) if len(probabilities) > 1 else 0,  # L\n",
        "        'Using_Fallback': using_fallback\n",
        "    })\n",
        "\n",
        "print(\"Fixture processed.\")"
      ],
      "metadata": {
        "colab": {
          "base_uri": "https://localhost:8080/"
        },
        "id": "oqqQ_jfa2YB2",
        "outputId": "b8ed1db6-5689-4e69-e339-e68782d944d2"
      },
      "execution_count": 61,
      "outputs": [
        {
          "output_type": "stream",
          "name": "stdout",
          "text": [
            "\n",
            "Generating improved predictions...\n",
            "Processing fixture....\n",
            "Processing fixture....\n",
            "Processing fixture....\n",
            "Processing fixture....\n",
            "Processing fixture....\n",
            "Processing fixture....\n",
            "Processing fixture....\n",
            "Processing fixture....\n",
            "Fixture processed.\n"
          ]
        }
      ]
    },
    {
      "cell_type": "code",
      "source": [
        "# Convert to DataFrame\n",
        "predictions_df = pd.DataFrame(predictions_list)\n",
        "\n",
        "print(f\"\\nCompleted predictions for {len(predictions_df)} fixtures!\")\n",
        "print(f\"Predictions using fallback data: {unknown_count}\")\n",
        "print(f\"Predictions with actual historical data: {len(predictions_df) - unknown_count}\")"
      ],
      "metadata": {
        "colab": {
          "base_uri": "https://localhost:8080/"
        },
        "id": "m8wTdgZP2y9A",
        "outputId": "5d8d4d68-8d9b-46c1-930f-752e17321a01"
      },
      "execution_count": 62,
      "outputs": [
        {
          "output_type": "stream",
          "name": "stdout",
          "text": [
            "\n",
            "Completed predictions for 380 fixtures!\n",
            "Predictions using fallback data: 38\n",
            "Predictions with actual historical data: 342\n"
          ]
        }
      ]
    },
    {
      "cell_type": "code",
      "source": [
        "print(\"\\nPrediction Summary:\")\n",
        "print(predictions_df['Predicted_Result'].value_counts())"
      ],
      "metadata": {
        "colab": {
          "base_uri": "https://localhost:8080/"
        },
        "id": "DLvCRJBG21sC",
        "outputId": "73edbec0-95db-4cb5-eda4-110cae2a19f4"
      },
      "execution_count": 63,
      "outputs": [
        {
          "output_type": "stream",
          "name": "stdout",
          "text": [
            "\n",
            "Prediction Summary:\n",
            "Predicted_Result\n",
            "W    286\n",
            "L     89\n",
            "D      5\n",
            "Name: count, dtype: int64\n"
          ]
        }
      ]
    },
    {
      "cell_type": "code",
      "source": [
        "print(f\"\\nAverage Confidence: {predictions_df['Confidence'].mean():.3f}\")\n",
        "high_conf_count = (predictions_df['Confidence'] > 0.6).sum()\n",
        "medium_conf_count = (predictions_df['Confidence'] > 0.5).sum()\n",
        "print(f\"High Confidence Predictions (>0.6): {high_conf_count}\")\n",
        "print(f\"Medium+ Confidence Predictions (>0.5): {medium_conf_count}\")"
      ],
      "metadata": {
        "colab": {
          "base_uri": "https://localhost:8080/"
        },
        "id": "20w4pEd_27mx",
        "outputId": "5f20c4d0-7215-4771-ec0c-559582cf5acc"
      },
      "execution_count": 64,
      "outputs": [
        {
          "output_type": "stream",
          "name": "stdout",
          "text": [
            "\n",
            "Average Confidence: 0.421\n",
            "High Confidence Predictions (>0.6): 0\n",
            "Medium+ Confidence Predictions (>0.5): 17\n"
          ]
        }
      ]
    },
    {
      "cell_type": "code",
      "source": [
        "print(\"\\nFirst 10 predictions:\")\n",
        "display_cols = ['Date', 'Home_Team', 'Away_Team', 'Predicted_Result', 'Confidence']\n",
        "print(predictions_df.head(10)[display_cols].to_string())"
      ],
      "metadata": {
        "colab": {
          "base_uri": "https://localhost:8080/"
        },
        "id": "r7_tEQVo2-Qc",
        "outputId": "6da2a1ef-d362-40ac-8c08-b47e362122b7"
      },
      "execution_count": 65,
      "outputs": [
        {
          "output_type": "stream",
          "name": "stdout",
          "text": [
            "\n",
            "First 10 predictions:\n",
            "                 Date      Home_Team        Away_Team Predicted_Result  Confidence\n",
            "0 2025-07-15 00:00:00         Girona   Rayo Vallecano                L       0.415\n",
            "1 2025-08-15 19:30:00     Villarreal      Real Oviedo                W       0.382\n",
            "2 2025-08-16 15:00:00         Alaves          Levante                W       0.407\n",
            "3 2025-08-16 17:30:00       Mallorca        Barcelona                L       0.434\n",
            "4 2025-08-16 19:30:00       Valencia    Real Sociedad                W       0.462\n",
            "5 2025-08-17 15:00:00     Celta Vigo           Getafe                W       0.444\n",
            "6 2025-08-17 17:30:00  Athletic Club          Sevilla                W       0.441\n",
            "7 2025-08-17 19:30:00       Espanyol  Atletico Madrid                L       0.423\n",
            "8 2025-08-18 19:00:00          Elche       Real Betis                L       0.380\n",
            "9 2025-08-19 19:00:00    Real Madrid          Osasuna                W       0.458\n"
          ]
        }
      ]
    },
    {
      "cell_type": "code",
      "source": [
        "print(\"\\nHighest confidence predictions:\")\n",
        "high_conf = predictions_df.nlargest(10, 'Confidence')\n",
        "print(high_conf[['Date', 'Home_Team', 'Away_Team', 'Predicted_Result', 'Confidence']].to_string())"
      ],
      "metadata": {
        "colab": {
          "base_uri": "https://localhost:8080/"
        },
        "id": "tjmZoaAb3BtM",
        "outputId": "ae08c865-45a5-45dc-9526-e3bfb09c6559"
      },
      "execution_count": 66,
      "outputs": [
        {
          "output_type": "stream",
          "name": "stdout",
          "text": [
            "\n",
            "Highest confidence predictions:\n",
            "                   Date        Home_Team       Away_Team Predicted_Result  Confidence\n",
            "160 2025-12-21 20:00:00    Athletic Club        Espanyol                W       0.570\n",
            "301 2026-04-12 19:00:00        Barcelona        Espanyol                W       0.522\n",
            "243 2026-02-22 20:00:00        Barcelona         Levante                W       0.519\n",
            "361 2026-05-17 19:00:00  Atletico Madrid          Girona                W       0.517\n",
            "15  2025-08-24 17:30:00    Real Sociedad        Espanyol                W       0.516\n",
            "341 2026-05-10 19:00:00  Atletico Madrid      Celta Vigo                W       0.516\n",
            "102 2025-11-02 20:00:00        Barcelona           Elche                W       0.515\n",
            "271 2026-03-15 20:00:00  Atletico Madrid          Getafe                W       0.513\n",
            "18  2025-08-25 17:30:00    Athletic Club  Rayo Vallecano                W       0.512\n",
            "48  2025-09-21 19:00:00      Real Madrid        Espanyol                W       0.512\n"
          ]
        }
      ]
    },
    {
      "cell_type": "code",
      "source": [
        "print(\"\\nSome interesting matchups:\")\n",
        "big_teams = ['Barcelona', 'Real Madrid', 'Atletico Madrid', 'Valencia', 'Sevilla']\n",
        "interesting = predictions_df[\n",
        "    (predictions_df['Home_Team'].isin(big_teams)) |\n",
        "    (predictions_df['Away_Team'].isin(big_teams))\n",
        "].head(10)\n",
        "print(interesting[['Date', 'Home_Team', 'Away_Team', 'Predicted_Result', 'Confidence']].to_string())"
      ],
      "metadata": {
        "colab": {
          "base_uri": "https://localhost:8080/"
        },
        "id": "EdkNxwkk3FhC",
        "outputId": "a3c26393-b31c-4cff-e7c4-bdd17b07d506"
      },
      "execution_count": 67,
      "outputs": [
        {
          "output_type": "stream",
          "name": "stdout",
          "text": [
            "\n",
            "Some interesting matchups:\n",
            "                  Date        Home_Team        Away_Team Predicted_Result  Confidence\n",
            "3  2025-08-16 17:30:00         Mallorca        Barcelona                L       0.434\n",
            "4  2025-08-16 19:30:00         Valencia    Real Sociedad                W       0.462\n",
            "6  2025-08-17 17:30:00    Athletic Club          Sevilla                W       0.441\n",
            "7  2025-08-17 19:30:00         Espanyol  Atletico Madrid                L       0.423\n",
            "9  2025-08-19 19:00:00      Real Madrid          Osasuna                W       0.458\n",
            "12 2025-08-23 17:30:00  Atletico Madrid            Elche                W       0.499\n",
            "13 2025-08-23 19:30:00          Levante        Barcelona                L       0.452\n",
            "14 2025-08-24 15:00:00          Osasuna         Valencia                W       0.440\n",
            "17 2025-08-24 19:30:00      Real Oviedo      Real Madrid                W       0.410\n",
            "19 2025-08-25 19:30:00          Sevilla           Getafe                W       0.470\n"
          ]
        }
      ]
    },
    {
      "cell_type": "code",
      "source": [
        "# Save improved predictions\n",
        "predictions_df.to_csv('laliga_2025_26_predictions_improved.csv', index=False)\n",
        "print(f\"\\n✅ Improved predictions saved to 'laliga_2025_26_predictions_improved.csv'\")"
      ],
      "metadata": {
        "colab": {
          "base_uri": "https://localhost:8080/"
        },
        "id": "wGaHTuTq3Ov5",
        "outputId": "689a8409-3827-4d01-bd06-b3c5c46d8341"
      },
      "execution_count": 68,
      "outputs": [
        {
          "output_type": "stream",
          "name": "stdout",
          "text": [
            "\n",
            "✅ Improved predictions saved to 'laliga_2025_26_predictions_improved.csv'\n"
          ]
        }
      ]
    },
    {
      "cell_type": "markdown",
      "source": [
        "###FULLY AUTOMATED LA LIGA MONITORING SYSTEM which Automatically fetches results and updates after every matchday"
      ],
      "metadata": {
        "id": "pmLckN9U3Xfa"
      }
    },
    {
      "cell_type": "code",
      "source": [
        "!pip install schedule\n",
        "import pandas as pd\n",
        "import numpy as np\n",
        "import requests\n",
        "from datetime import datetime, timedelta\n",
        "import json\n",
        "import time\n",
        "import schedule\n",
        "import threading\n",
        "from bs4 import BeautifulSoup\n",
        "import warnings\n",
        "warnings.filterwarnings('ignore')"
      ],
      "metadata": {
        "colab": {
          "base_uri": "https://localhost:8080/"
        },
        "id": "POyOcHjn3oxV",
        "outputId": "fe918096-449c-4487-c458-f30701b59a4d"
      },
      "execution_count": 69,
      "outputs": [
        {
          "output_type": "stream",
          "name": "stdout",
          "text": [
            "Collecting schedule\n",
            "  Downloading schedule-1.2.2-py3-none-any.whl.metadata (3.8 kB)\n",
            "Downloading schedule-1.2.2-py3-none-any.whl (12 kB)\n",
            "Installing collected packages: schedule\n",
            "Successfully installed schedule-1.2.2\n"
          ]
        }
      ]
    },
    {
      "cell_type": "code",
      "source": [
        "print(\"System will automatically:\")\n",
        "print(\"✅ Fetch match results from web\")\n",
        "print(\"✅ Update predictions and table\")\n",
        "print(\"✅ Generate reports\")\n",
        "print(\"✅ Save data automatically\")"
      ],
      "metadata": {
        "colab": {
          "base_uri": "https://localhost:8080/"
        },
        "id": "bcIjpOZq3wP3",
        "outputId": "67c85815-6efd-4262-c15a-2c6bbecc2b37"
      },
      "execution_count": 70,
      "outputs": [
        {
          "output_type": "stream",
          "name": "stdout",
          "text": [
            "System will automatically:\n",
            "✅ Fetch match results from web\n",
            "✅ Update predictions and table\n",
            "✅ Generate reports\n",
            "✅ Save data automatically\n"
          ]
        }
      ]
    },
    {
      "cell_type": "code",
      "source": [
        "class AutomatedLaLigaMonitor:\n",
        "    def __init__(self, predictions_df, model, encoders):\n",
        "        \"\"\"Initialize automated monitoring system\"\"\"\n",
        "        self.predictions = predictions_df.copy()\n",
        "        self.model = model\n",
        "        self.le_home, self.le_away = encoders\n",
        "\n",
        "        # Tracking data\n",
        "        self.performance_history = []\n",
        "        self.weekly_accuracy = []\n",
        "        self.actual_results = []\n",
        "        self.current_matchday = 0\n",
        "        self.season_table = self.initialize_season_table()\n",
        "        self.last_update = datetime.now()\n",
        "\n",
        "        # Data sources configuration\n",
        "        self.data_sources = {\n",
        "            'primary': 'https://api.football-data.org/v4/competitions/PD/matches',\n",
        "            'backup': 'https://www.espn.com/soccer/league/_/name/esp.1',\n",
        "            'fallback': 'https://www.laliga.com/en-GB/laliga-easports'\n",
        "        }\n",
        "\n",
        "        # API configurations (you'll need to get free API keys)\n",
        "        self.headers = {\n",
        "            'X-Auth-Token': 'f5c7eef6b7d3495e9928d0fada922957',  # Free from football-data.org\n",
        "            'User-Agent': 'LaLiga-Predictor/1.0'\n",
        "        }\n",
        "\n",
        "        print(f\"✅ Automated system initialized with {len(predictions_df)} predictions\")\n",
        "\n",
        "    def initialize_season_table(self):\n",
        "        \"\"\"Initialize season table\"\"\"\n",
        "        teams = list(set(self.predictions['Home_Team'].unique()) |\n",
        "                    set(self.predictions['Away_Team'].unique()))\n",
        "\n",
        "        table = pd.DataFrame({\n",
        "            'Team': teams,\n",
        "            'Matches': 0, 'Wins': 0, 'Draws': 0, 'Losses': 0,\n",
        "            'Goals_For': 0, 'Goals_Against': 0, 'Goal_Diff': 0,\n",
        "            'Points': 0, 'Form': [''] * len(teams),\n",
        "            'Last_5': [''] * len(teams),\n",
        "            'Last_Updated': [datetime.now()] * len(teams)\n",
        "        })\n",
        "\n",
        "        return table.set_index('Team')\n",
        "\n",
        "    def fetch_latest_results(self):\n",
        "        \"\"\"Automatically fetch latest La Liga results\"\"\"\n",
        "        print(f\"🌐 Fetching latest results... ({datetime.now().strftime('%Y-%m-%d %H:%M')})\")\n",
        "\n",
        "        try:\n",
        "            # Try primary API (Football-Data.org)\n",
        "            results = self.fetch_from_football_data_api()\n",
        "            if results:\n",
        "                return results\n",
        "\n",
        "            # Fallback to ESPN scraping\n",
        "            print(\"📡 Primary API failed, trying ESPN...\")\n",
        "            results = self.fetch_from_espn()\n",
        "            if results:\n",
        "                return results\n",
        "\n",
        "            # Fallback to La Liga official site\n",
        "            print(\"📡 ESPN failed, trying La Liga official...\")\n",
        "            results = self.fetch_from_laliga_official()\n",
        "            return results\n",
        "\n",
        "        except Exception as e:\n",
        "            print(f\"❌ Error fetching results: {e}\")\n",
        "            return []\n",
        "\n",
        "    def fetch_from_football_data_api(self):\n",
        "        \"\"\"Fetch from Football-Data.org API (primary source)\"\"\"\n",
        "        try:\n",
        "            # Get current season matches\n",
        "            response = requests.get(self.data_sources['primary'], headers=self.headers)\n",
        "\n",
        "            if response.status_code == 200:\n",
        "                data = response.json()\n",
        "                matches = data.get('matches', [])\n",
        "\n",
        "                # Process only finished matches since last update\n",
        "                new_results = []\n",
        "                for match in matches:\n",
        "                    if match['status'] == 'FINISHED':\n",
        "                        match_date = datetime.fromisoformat(match['utcDate'].replace('Z', '+00:00'))\n",
        "\n",
        "                        # Only process matches since last update\n",
        "                        if match_date > self.last_update:\n",
        "                            result = {\n",
        "                                'home_team': self.clean_team_name(match['homeTeam']['name']),\n",
        "                                'away_team': self.clean_team_name(match['awayTeam']['name']),\n",
        "                                'home_goals': match['score']['fullTime']['home'],\n",
        "                                'away_goals': match['score']['fullTime']['away'],\n",
        "                                'date': match_date.strftime('%Y-%m-%d'),\n",
        "                                'matchday': match.get('matchday', 0),\n",
        "                                'source': 'football-data-api'\n",
        "                            }\n",
        "                            new_results.append(result)\n",
        "\n",
        "                print(f\"✅ Fetched {len(new_results)} new results from Football-Data API\")\n",
        "                return new_results\n",
        "\n",
        "        except Exception as e:\n",
        "            print(f\"❌ Football-Data API error: {e}\")\n",
        "            return []\n",
        "\n",
        "    def fetch_from_espn(self):\n",
        "        \"\"\"Backup: Scrape ESPN for results\"\"\"\n",
        "        try:\n",
        "            response = requests.get(self.data_sources['backup'])\n",
        "            soup = BeautifulSoup(response.content, 'html.parser')\n",
        "\n",
        "            # ESPN scraping logic (simplified)\n",
        "            matches = []\n",
        "            # This would need specific ESPN HTML parsing\n",
        "            # For now, returning empty list\n",
        "\n",
        "            return matches\n",
        "        except:\n",
        "            return []\n",
        "\n",
        "    def fetch_from_laliga_official(self):\n",
        "        \"\"\"Fallback: Scrape La Liga official site\"\"\"\n",
        "        try:\n",
        "            # Similar scraping logic for La Liga official\n",
        "            # Implementation would depend on their HTML structure\n",
        "            return []\n",
        "        except:\n",
        "            return []\n",
        "\n",
        "    def clean_team_name(self, name):\n",
        "        \"\"\"Clean team names to match our prediction format\"\"\"\n",
        "        name_mapping = {\n",
        "            'FC Barcelona': 'Barcelona',\n",
        "            'Real Madrid CF': 'Real Madrid',\n",
        "            'Atlético Madrid': 'Atletico Madrid',\n",
        "            'Villarreal CF': 'Villarreal',\n",
        "            'Real Sociedad': 'Real Sociedad',\n",
        "            'Real Betis': 'Real Betis',\n",
        "            'Valencia CF': 'Valencia',\n",
        "            'Athletic Club': 'Athletic Club',\n",
        "            'CA Osasuna': 'Osasuna',\n",
        "            'Getafe CF': 'Getafe',\n",
        "            'Sevilla FC': 'Sevilla',\n",
        "            'Rayo Vallecano': 'Rayo Vallecano',\n",
        "            'RCD Mallorca': 'Mallorca',\n",
        "            'UD Las Palmas': 'Las Palmas',\n",
        "            'Girona FC': 'Girona',\n",
        "            'Deportivo Alavés': 'Alaves',\n",
        "            'RC Celta de Vigo': 'Celta Vigo',\n",
        "            'CD Leganés': 'Leganes',\n",
        "            'RCD Espanyol': 'Espanyol',\n",
        "            'Real Valladolid CF': 'Valladolid'\n",
        "        }\n",
        "        return name_mapping.get(name, name)\n",
        "\n",
        "    def process_new_results(self, new_results):\n",
        "        \"\"\"Process newly fetched results\"\"\"\n",
        "        if not new_results:\n",
        "            print(\"ℹ️  No new results to process\")\n",
        "            return\n",
        "\n",
        "        print(f\"⚡ Processing {len(new_results)} new matches...\")\n",
        "\n",
        "        for result in new_results:\n",
        "            self.add_single_result(result)\n",
        "\n",
        "        self.last_update = datetime.now()\n",
        "\n",
        "        # Auto-generate report if significant update\n",
        "        if len(new_results) >= 5:  # Half a matchday or more\n",
        "            self.generate_auto_report()\n",
        "\n",
        "        # Save data automatically\n",
        "        self.auto_save_data()\n",
        "\n",
        "    def add_single_result(self, result):\n",
        "        \"\"\"Add single match result and update all tracking\"\"\"\n",
        "        home_team = result['home_team']\n",
        "        away_team = result['away_team']\n",
        "        home_goals = result['home_goals']\n",
        "        away_goals = result['away_goals']\n",
        "\n",
        "        # Determine result\n",
        "        if home_goals > away_goals:\n",
        "            actual_result = 'W'\n",
        "        elif home_goals < away_goals:\n",
        "            actual_result = 'L'\n",
        "        else:\n",
        "            actual_result = 'D'\n",
        "\n",
        "        # Find prediction\n",
        "        pred_match = self.predictions[\n",
        "            (self.predictions['Home_Team'] == home_team) &\n",
        "            (self.predictions['Away_Team'] == away_team)\n",
        "        ]\n",
        "\n",
        "        if not pred_match.empty:\n",
        "            predicted_result = pred_match.iloc[0]['Predicted_Result']\n",
        "            confidence = pred_match.iloc[0]['Confidence']\n",
        "\n",
        "            # Store result\n",
        "            self.actual_results.append({\n",
        "                'date': result['date'],\n",
        "                'home_team': home_team,\n",
        "                'away_team': away_team,\n",
        "                'home_goals': home_goals,\n",
        "                'away_goals': away_goals,\n",
        "                'actual_result': actual_result,\n",
        "                'predicted_result': predicted_result,\n",
        "                'confidence': confidence,\n",
        "                'correct': predicted_result == actual_result,\n",
        "                'source': result.get('source', 'unknown'),\n",
        "                'auto_updated': datetime.now().isoformat()\n",
        "            })\n",
        "\n",
        "            # Update season table\n",
        "            self.update_season_table(home_team, away_team, home_goals, away_goals, actual_result)\n",
        "\n",
        "            print(f\"✅ {home_team} {home_goals}-{away_goals} {away_team} | \"\n",
        "                  f\"Predicted: {predicted_result}, Actual: {actual_result} | \"\n",
        "                  f\"{'✅' if predicted_result == actual_result else '❌'}\")\n",
        "\n",
        "    def update_season_table(self, home_team, away_team, home_goals, away_goals, result):\n",
        "        \"\"\"Update season table with match result\"\"\"\n",
        "        # Update home team\n",
        "        if home_team in self.season_table.index:\n",
        "            self.season_table.loc[home_team, 'Matches'] += 1\n",
        "            self.season_table.loc[home_team, 'Goals_For'] += home_goals\n",
        "            self.season_table.loc[home_team, 'Goals_Against'] += away_goals\n",
        "            self.season_table.loc[home_team, 'Last_Updated'] = datetime.now()\n",
        "\n",
        "        # Update away team\n",
        "        if away_team in self.season_table.index:\n",
        "            self.season_table.loc[away_team, 'Matches'] += 1\n",
        "            self.season_table.loc[away_team, 'Goals_For'] += away_goals\n",
        "            self.season_table.loc[away_team, 'Goals_Against'] += home_goals\n",
        "            self.season_table.loc[away_team, 'Last_Updated'] = datetime.now()\n",
        "\n",
        "        # Update points and results\n",
        "        if result == 'W':  # Home win\n",
        "            if home_team in self.season_table.index:\n",
        "                self.season_table.loc[home_team, 'Wins'] += 1\n",
        "                self.season_table.loc[home_team, 'Points'] += 3\n",
        "            if away_team in self.season_table.index:\n",
        "                self.season_table.loc[away_team, 'Losses'] += 1\n",
        "        elif result == 'L':  # Away win\n",
        "            if away_team in self.season_table.index:\n",
        "                self.season_table.loc[away_team, 'Wins'] += 1\n",
        "                self.season_table.loc[away_team, 'Points'] += 3\n",
        "            if home_team in self.season_table.index:\n",
        "                self.season_table.loc[home_team, 'Losses'] += 1\n",
        "        else:  # Draw\n",
        "            if home_team in self.season_table.index:\n",
        "                self.season_table.loc[home_team, 'Draws'] += 1\n",
        "                self.season_table.loc[home_team, 'Points'] += 1\n",
        "            if away_team in self.season_table.index:\n",
        "                self.season_table.loc[away_team, 'Draws'] += 1\n",
        "                self.season_table.loc[away_team, 'Points'] += 1\n",
        "\n",
        "        # Update goal difference\n",
        "        self.season_table['Goal_Diff'] = (self.season_table['Goals_For'] -\n",
        "                                         self.season_table['Goals_Against'])\n",
        "\n",
        "    def generate_auto_report(self):\n",
        "        \"\"\"Generate automated performance report\"\"\"\n",
        "        print(f\"\\n📋 AUTOMATED REPORT - {datetime.now().strftime('%Y-%m-%d %H:%M')}\")\n",
        "        print(\"=\"*50)\n",
        "\n",
        "        if not self.actual_results:\n",
        "            print(\"No results processed yet\")\n",
        "            return\n",
        "\n",
        "        # Overall performance\n",
        "        total_matches = len(self.actual_results)\n",
        "        correct_predictions = sum(1 for r in self.actual_results if r['correct'])\n",
        "        accuracy = correct_predictions / total_matches if total_matches > 0 else 0\n",
        "\n",
        "        print(f\"🎯 PERFORMANCE UPDATE:\")\n",
        "        print(f\"   Total Matches: {total_matches}\")\n",
        "        print(f\"   Current Accuracy: {accuracy:.1%}\")\n",
        "        print(f\"   Correct: {correct_predictions}\")\n",
        "\n",
        "        # Current top 6\n",
        "        current_table = self.get_current_table()\n",
        "        print(f\"\\n🏆 CURRENT TOP 6:\")\n",
        "        top6 = current_table.head(6)[['Points', 'Matches', 'Goals_For', 'Goals_Against', 'Goal_Diff']]\n",
        "        print(top6.to_string())\n",
        "\n",
        "        # Recent form\n",
        "        recent_results = self.actual_results[-5:] if len(self.actual_results) >= 5 else self.actual_results\n",
        "        recent_accuracy = sum(1 for r in recent_results if r['correct']) / len(recent_results)\n",
        "        print(f\"\\n📈 RECENT FORM: {recent_accuracy:.1%} (last {len(recent_results)} matches)\")\n",
        "\n",
        "    def get_current_table(self):\n",
        "        \"\"\"Get current league table\"\"\"\n",
        "        table = self.season_table.copy()\n",
        "        return table.sort_values(['Points', 'Goal_Diff', 'Goals_For'], ascending=[False, False, False])\n",
        "\n",
        "    def auto_save_data(self):\n",
        "        \"\"\"Automatically save all data with timestamps\"\"\"\n",
        "        timestamp = datetime.now().strftime('%Y%m%d_%H%M')\n",
        "\n",
        "        # Save results\n",
        "        if self.actual_results:\n",
        "            df = pd.DataFrame(self.actual_results)\n",
        "            df.to_csv(f'auto_results_{timestamp}.csv', index=False)\n",
        "\n",
        "        # Save current table\n",
        "        table = self.get_current_table()\n",
        "        table.to_csv(f'auto_table_{timestamp}.csv')\n",
        "\n",
        "        # Save performance summary\n",
        "        if self.actual_results:\n",
        "            summary = {\n",
        "                'last_updated': datetime.now().isoformat(),\n",
        "                'total_matches': len(self.actual_results),\n",
        "                'accuracy': sum(1 for r in self.actual_results if r['correct']) / len(self.actual_results),\n",
        "                'data_sources_used': list(set(r.get('source', 'unknown') for r in self.actual_results))\n",
        "            }\n",
        "\n",
        "            with open(f'auto_summary_{timestamp}.json', 'w') as f:\n",
        "                json.dump(summary, f, indent=2)\n",
        "\n",
        "        print(f\"💾 Auto-saved data with timestamp: {timestamp}\")\n",
        "\n",
        "    def start_automated_monitoring(self):\n",
        "        \"\"\"Start the automated monitoring system\"\"\"\n",
        "        print(\"🚀 Starting automated monitoring...\")\n",
        "\n",
        "        # Schedule automatic updates\n",
        "        schedule.every(2).hours.do(self.run_update_cycle)  # Every 2 hours\n",
        "        schedule.every().day.at(\"09:00\").do(self.run_update_cycle)  # Daily at 9 AM\n",
        "        schedule.every().day.at(\"21:00\").do(self.run_update_cycle)  # Daily at 9 PM\n",
        "\n",
        "        # Run in background thread\n",
        "        def run_scheduler():\n",
        "            while True:\n",
        "                schedule.run_pending()\n",
        "                time.sleep(60)  # Check every minute\n",
        "\n",
        "        scheduler_thread = threading.Thread(target=run_scheduler, daemon=True)\n",
        "        scheduler_thread.start()\n",
        "\n",
        "        print(\"✅ Automated monitoring started!\")\n",
        "        print(\"🕐 Updates scheduled: Every 2 hours + 9 AM/9 PM daily\")\n",
        "        print(\"💡 The system is now running in the background...\")\n",
        "\n",
        "        # Initial update\n",
        "        self.run_update_cycle()\n",
        "\n",
        "    def run_update_cycle(self):\n",
        "        \"\"\"Run complete update cycle\"\"\"\n",
        "        print(f\"\\n🔄 Running automated update cycle...\")\n",
        "        try:\n",
        "            new_results = self.fetch_latest_results()\n",
        "            self.process_new_results(new_results)\n",
        "\n",
        "            if new_results:\n",
        "                print(f\"✅ Update cycle completed - processed {len(new_results)} new results\")\n",
        "            else:\n",
        "                print(\"ℹ️  Update cycle completed - no new results\")\n",
        "\n",
        "        except Exception as e:\n",
        "            print(f\"❌ Update cycle failed: {e}\")\n",
        "\n",
        "    def stop_monitoring(self):\n",
        "        \"\"\"Stop the automated monitoring\"\"\"\n",
        "        schedule.clear()\n",
        "        print(\"🛑 Automated monitoring stopped\")\n"
      ],
      "metadata": {
        "id": "R9ENv_gA38Aj"
      },
      "execution_count": 71,
      "outputs": []
    }
  ]
}